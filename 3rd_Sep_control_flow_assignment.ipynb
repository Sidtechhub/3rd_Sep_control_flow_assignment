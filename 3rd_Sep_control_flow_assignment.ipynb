{
 "cells": [
  {
   "cell_type": "code",
   "execution_count": null,
   "id": "078a9bcd-ac1c-4fd5-81b3-cf3f05b6742b",
   "metadata": {},
   "outputs": [],
   "source": [
    "# 1. Write a Python program to check if a given number is positive or negative."
   ]
  },
  {
   "cell_type": "code",
   "execution_count": 8,
   "id": "7d793448-5ea1-4184-adaa-3da5525ead80",
   "metadata": {},
   "outputs": [
    {
     "name": "stdin",
     "output_type": "stream",
     "text": [
      "Enter the number: 0\n"
     ]
    },
    {
     "name": "stdout",
     "output_type": "stream",
     "text": [
      "The number is neither positive nor negative.\n"
     ]
    }
   ],
   "source": [
    "number=int(input(\"Enter the number:\"))\n",
    "if(number>0):\n",
    "    print(\"The number is positive\")\n",
    "else:\n",
    "    if(number<0):\n",
    "        print(\"The number is negative\")\n",
    "    else:\n",
    "        print(\"The number is neither positive nor negative.\")\n",
    "    "
   ]
  },
  {
   "cell_type": "code",
   "execution_count": null,
   "id": "da476071-6831-4308-ba8c-4abb40158ce8",
   "metadata": {},
   "outputs": [],
   "source": []
  },
  {
   "cell_type": "code",
   "execution_count": null,
   "id": "12428489-07f7-4425-973a-368c219b4a19",
   "metadata": {},
   "outputs": [],
   "source": [
    "# 2. Create a program that determines if a person is eligible to vote based on their age."
   ]
  },
  {
   "cell_type": "code",
   "execution_count": 7,
   "id": "c6b07309-3066-4caa-85ef-d565b0aa6418",
   "metadata": {},
   "outputs": [
    {
     "name": "stdin",
     "output_type": "stream",
     "text": [
      "Enter the age: 18\n"
     ]
    },
    {
     "name": "stdout",
     "output_type": "stream",
     "text": [
      "You are eligible to vote.\n"
     ]
    }
   ],
   "source": [
    "age=int(input(\"Enter the age:\"))\n",
    "if(age>=18):\n",
    "    print(\"You are eligible to vote.\")\n",
    "else:\n",
    "    print(\"You are not eligible to vote.\")"
   ]
  },
  {
   "cell_type": "code",
   "execution_count": null,
   "id": "ee189b21-693b-4c45-80ce-e39c24913741",
   "metadata": {},
   "outputs": [],
   "source": []
  },
  {
   "cell_type": "code",
   "execution_count": null,
   "id": "32ea3827-bb74-4ee8-8de4-78ba5cd802fe",
   "metadata": {},
   "outputs": [],
   "source": [
    "# 3. Develop a program to find the maximum of two numbers using if-else statements."
   ]
  },
  {
   "cell_type": "code",
   "execution_count": 14,
   "id": "36de8a5e-1f1f-410f-80bb-f3fa3f6bfa99",
   "metadata": {},
   "outputs": [
    {
     "name": "stdin",
     "output_type": "stream",
     "text": [
      "Enter the first number: 23\n",
      "Enter the second number: 1\n"
     ]
    },
    {
     "name": "stdout",
     "output_type": "stream",
     "text": [
      "23 is greater number than  1\n"
     ]
    }
   ],
   "source": [
    "a=int(input(\"Enter the first number:\"))\n",
    "b=int(input(\"Enter the second number:\"))\n",
    "if(a>b):\n",
    "    print(str(a)+\" is greater number than  \"+str(b))\n",
    "else:\n",
    "     print(str(b)+\" is greater number than \"+str(a))"
   ]
  },
  {
   "cell_type": "code",
   "execution_count": null,
   "id": "cae7e21f-a2ec-4d80-91c3-ef09b6673b42",
   "metadata": {},
   "outputs": [],
   "source": [
    "# 4. Write a Python script to classify a given year as a leap year or not."
   ]
  },
  {
   "cell_type": "code",
   "execution_count": 52,
   "id": "97ef6eb6-9bb9-4c41-bb77-cab58fb90ec2",
   "metadata": {},
   "outputs": [
    {
     "name": "stdout",
     "output_type": "stream",
     "text": [
      "2000 is a leap year\n"
     ]
    }
   ],
   "source": [
    "\n",
    "# Python program to check if year is a leap year or not\n",
    "\n",
    "year =2000\n",
    "\n",
    "# To get year (integer input) from the user\n",
    "# year = int(input(\"Enter a year: \"))\n",
    "\n",
    "# divided by 100 means century year (ending with 00)\n",
    "# century year divided by 400 is leap year\n",
    "if (year % 400 == 0) and (year % 100 == 0):\n",
    "    print(\"{0} is a leap year\".format(year))\n",
    "\n",
    "# not divided by 100 means not a century year\n",
    "# year divided by 4 is a leap year\n",
    "elif (year % 4 ==0) and (year % 100 != 0):\n",
    "    print(\"{0} is a leap year\".format(year))\n",
    "\n",
    "# if not divided by both 400 (century year) and 4 (not century year)\n",
    "# year is not leap year\n",
    "else:\n",
    "    print(\"{0} is not a leap year\".format(year))        \n",
    "       "
   ]
  },
  {
   "cell_type": "code",
   "execution_count": null,
   "id": "01c10124-8644-43b3-aae6-341c7779b8f6",
   "metadata": {},
   "outputs": [],
   "source": []
  },
  {
   "cell_type": "code",
   "execution_count": null,
   "id": "67bac3e9-91cd-4554-8e85-f4fcdb0a0963",
   "metadata": {},
   "outputs": [],
   "source": [
    "# 5. Create a program that checks whether a character is a vowel or a consonant."
   ]
  },
  {
   "cell_type": "code",
   "execution_count": 31,
   "id": "4f879aa4-7a65-43a3-b9df-0542fe9cd3ac",
   "metadata": {},
   "outputs": [
    {
     "name": "stdin",
     "output_type": "stream",
     "text": [
      "Enter the character :  i\n"
     ]
    },
    {
     "name": "stdout",
     "output_type": "stream",
     "text": [
      "The character is a vowel \n"
     ]
    }
   ],
   "source": [
    "character=input(\"Enter the character : \")\n",
    "if(character=='a' or character=='e'  or character=='i' or character=='o' or character=='u'):\n",
    "    print(\"The character is a vowel \")\n",
    "else:\n",
    "     print(\"The character is a consonant\")         "
   ]
  },
  {
   "cell_type": "code",
   "execution_count": null,
   "id": "f4964c7f-569a-4e82-af8b-4e37bca872d2",
   "metadata": {},
   "outputs": [],
   "source": []
  },
  {
   "cell_type": "code",
   "execution_count": null,
   "id": "ba605279-11af-401e-8abf-e652618d8631",
   "metadata": {},
   "outputs": [],
   "source": [
    "# 6. Implement a program to determine whether a given number is even or odd."
   ]
  },
  {
   "cell_type": "code",
   "execution_count": 34,
   "id": "ec0d0b36-24f7-41f1-a659-c55798dd2965",
   "metadata": {},
   "outputs": [
    {
     "name": "stdin",
     "output_type": "stream",
     "text": [
      "Enter the number: 7\n"
     ]
    },
    {
     "name": "stdout",
     "output_type": "stream",
     "text": [
      "The number is odd\n"
     ]
    }
   ],
   "source": [
    "number=int(input(\"Enter the number:\"))\n",
    "if number%2==0:\n",
    "    print(\"The number is even \")\n",
    "else:\n",
    "    print(\"The number is odd\")"
   ]
  },
  {
   "cell_type": "code",
   "execution_count": null,
   "id": "18b3a127-6673-4d47-af72-4f21ed67a47e",
   "metadata": {},
   "outputs": [],
   "source": []
  },
  {
   "cell_type": "code",
   "execution_count": null,
   "id": "5388d95d-ad9d-4008-87dc-f18412cba8c8",
   "metadata": {},
   "outputs": [],
   "source": [
    "# 7. Write a Python function to calculate the absolute value of a number without using the `abs()` function."
   ]
  },
  {
   "cell_type": "code",
   "execution_count": 1,
   "id": "a0b55ff4-2e61-4d84-8619-50932fe1a226",
   "metadata": {},
   "outputs": [
    {
     "name": "stdin",
     "output_type": "stream",
     "text": [
      "Enter the number: -78\n"
     ]
    },
    {
     "name": "stdout",
     "output_type": "stream",
     "text": [
      "78\n"
     ]
    }
   ],
   "source": [
    "number=int(input(\"Enter the number:\"))\n",
    "if number>0:\n",
    "    print(number)\n",
    "else:\n",
    "    print(-number)"
   ]
  },
  {
   "cell_type": "code",
   "execution_count": null,
   "id": "874677da-8b5d-4b22-bf97-bd7dccef6fc2",
   "metadata": {},
   "outputs": [],
   "source": []
  },
  {
   "cell_type": "code",
   "execution_count": null,
   "id": "36298f33-7c0d-40de-84d5-846fa4c72d37",
   "metadata": {},
   "outputs": [],
   "source": [
    "# 8. Develop a program that determines the largest of three given numbers using if-else statements."
   ]
  },
  {
   "cell_type": "code",
   "execution_count": 5,
   "id": "21324217-2d82-48e7-952d-4d32d8fc7024",
   "metadata": {},
   "outputs": [
    {
     "name": "stdin",
     "output_type": "stream",
     "text": [
      "Enter the number 1: 5\n",
      "Enter the number 2: 8\n",
      "Enter the number 3: 9\n"
     ]
    },
    {
     "name": "stdout",
     "output_type": "stream",
     "text": [
      "9 is greatest of three number\n"
     ]
    }
   ],
   "source": [
    "a=int(input(\"Enter the number 1:\"))\n",
    "b=int(input(\"Enter the number 2:\"))\n",
    "c=int(input(\"Enter the number 3:\"))\n",
    "# if(a>b and a>c):\n",
    "#     print(str(a)+\" is greatest of three number\" )\n",
    "# elif(b>a and b>c):\n",
    "#     print(str(b)+\" is greatest of three number\" )\n",
    "# else:\n",
    "#      print(str(c)+\" is greatest of three number\" )\n",
    "if(a>b and a>c):\n",
    "    print(str(a)+\" is greatest of three number\" )\n",
    "else:\n",
    "    if((b>a and b>c)):\n",
    "         print(str(b)+\" is greatest of three number\" )\n",
    "    \n",
    "    else:\n",
    "         print(str(c)+\" is greatest of three number\" )\n"
   ]
  },
  {
   "cell_type": "code",
   "execution_count": null,
   "id": "0d5b38f5-c333-485b-928a-b661685bc344",
   "metadata": {},
   "outputs": [],
   "source": []
  },
  {
   "cell_type": "code",
   "execution_count": null,
   "id": "bff55af9-3cb2-49c7-b571-6b11d3d03757",
   "metadata": {},
   "outputs": [],
   "source": [
    "# 9. Create a program that checks if a given string is a palindrome."
   ]
  },
  {
   "cell_type": "code",
   "execution_count": 53,
   "id": "413d79f4-1300-41db-b56c-42ee933ca4a6",
   "metadata": {},
   "outputs": [
    {
     "name": "stdin",
     "output_type": "stream",
     "text": [
      "Enter the string: level\n"
     ]
    },
    {
     "name": "stdout",
     "output_type": "stream",
     "text": [
      " Yes, level is a pallindrome \n"
     ]
    }
   ],
   "source": [
    "string=input(\"Enter the string:\")\n",
    "if(string==string[::-1]):\n",
    "    print(f\" Yes, {string} is a pallindrome \")\n",
    "else:\n",
    "     print(f\" No, {string} is not a pallindrome \")"
   ]
  },
  {
   "cell_type": "code",
   "execution_count": null,
   "id": "6920817e-5d88-43a0-a7d3-28304720ea8e",
   "metadata": {},
   "outputs": [],
   "source": []
  },
  {
   "cell_type": "code",
   "execution_count": null,
   "id": "5d06c9fe-2ae6-4deb-a26d-5a361ad8b105",
   "metadata": {},
   "outputs": [],
   "source": [
    "# 10. Write a Python program to calculate the grade based on a student's score."
   ]
  },
  {
   "cell_type": "code",
   "execution_count": 69,
   "id": "f4f4c6d3-045b-4cca-95e3-0b73e2582d0b",
   "metadata": {},
   "outputs": [
    {
     "name": "stdin",
     "output_type": "stream",
     "text": [
      "Enter your percent score 83.5\n"
     ]
    },
    {
     "name": "stdout",
     "output_type": "stream",
     "text": [
      "Good,You scored B+ grade\n"
     ]
    }
   ],
   "source": [
    "score=float(input(\"Enter your percent score\"))\n",
    "if(score>90):\n",
    "    print(\"Excellent, You scored A+ grade\")\n",
    "elif(85<score<=90):\n",
    "     print(\"Very good, You scored A grade\")\n",
    "elif(80<score<=85):\n",
    "     print(\"Good,You scored B+ grade\")\n",
    "elif(75<score<=80):\n",
    "     print(\"Above average, You scored B grade\")\n",
    "elif(70<score<=75):\n",
    "     print(\"Average,You scored C+ grade\")\n",
    "elif(65<score<=70):\n",
    "     print(\"Average,You scored C grade\")\n",
    "elif(60<score<=65):\n",
    "     print(\"Average,You scored D+ grade\")\n",
    "elif(55<score<=60):\n",
    "     print(\"Poor,You scored D grade\")\n",
    "elif(50<score<=55):\n",
    "     print(\"Very Poor,You scored E+ grade\")\n",
    "elif(45<score<=50):\n",
    "     print(\"Very very Poor,You scored E grade\")\n",
    "elif(score<=45):\n",
    "     print(\"Failed! You scored F grade\")\n"
   ]
  },
  {
   "cell_type": "code",
   "execution_count": null,
   "id": "79b8f508-d6aa-4556-b68a-acbf3929e849",
   "metadata": {},
   "outputs": [],
   "source": []
  },
  {
   "cell_type": "code",
   "execution_count": null,
   "id": "7477946c-08e4-4ffc-ab46-e73598418ca9",
   "metadata": {},
   "outputs": [],
   "source": [
    "# 11. Write a program to find the largest among three numbers using nested if-else statements."
   ]
  },
  {
   "cell_type": "code",
   "execution_count": 1,
   "id": "7177771a-69ab-4bd4-a0b1-24f07b5e4b5f",
   "metadata": {},
   "outputs": [
    {
     "name": "stdin",
     "output_type": "stream",
     "text": [
      "Enter the 1st number : 5\n",
      "Enter the 2nd number : 7\n",
      "Enter the 3rd number : 9\n"
     ]
    },
    {
     "name": "stdout",
     "output_type": "stream",
     "text": [
      "9 is the greatest number \n"
     ]
    }
   ],
   "source": [
    "a=int(input(\"Enter the 1st number :\"))\n",
    "b=int(input(\"Enter the 2nd number :\"))\n",
    "c=int(input(\"Enter the 3rd number :\"))\n",
    "if(a>b):\n",
    "    if(a>c):\n",
    "        print(str(a)+\" is the greatest number \")\n",
    "    else:\n",
    "        print(str(c)+\" is the greatest number \")\n",
    "else:\n",
    "    if(b>c):\n",
    "        print(str(b)+\" is the greatest number \")\n",
    "    else:\n",
    "        print(str(c)+\" is the greatest number \")\n",
    "        "
   ]
  },
  {
   "cell_type": "code",
   "execution_count": null,
   "id": "67405121-5885-4df5-a197-7445d4123d08",
   "metadata": {},
   "outputs": [],
   "source": []
  },
  {
   "cell_type": "code",
   "execution_count": null,
   "id": "6ad762c8-047a-45c8-bffd-81bfc3b9f5a8",
   "metadata": {},
   "outputs": [],
   "source": [
    "# 12. Implement a program to determine if a triangle is equilateral, isosceles, or scalene."
   ]
  },
  {
   "cell_type": "code",
   "execution_count": 11,
   "id": "547e790d-e8c0-4f01-b7b0-34b6d5fdf239",
   "metadata": {},
   "outputs": [
    {
     "name": "stdin",
     "output_type": "stream",
     "text": [
      "Enter the side 1 length: 5\n",
      "Enter the side 2 length: 5\n",
      "Enter the side 3 length: 5\n"
     ]
    },
    {
     "name": "stdout",
     "output_type": "stream",
     "text": [
      "The triangle is equilateral .\n"
     ]
    }
   ],
   "source": [
    "side_1=int(input(\"Enter the side 1 length:\"))\n",
    "side_2=int(input(\"Enter the side 2 length:\"))\n",
    "side_3=int(input(\"Enter the side 3 length:\"))\n",
    "if(side_1==side_2):\n",
    "    if(side_1==side_3):\n",
    "        print(\"The triangle is equilateral .\")\n",
    "    else:\n",
    "        print(\"The triangle is isosceles .\")\n",
    "else:\n",
    "    if(side_1!=side_2):\n",
    "        if(side_1==side_3):\n",
    "            print(\"The triangle is isosceles .\")\n",
    "        else:\n",
    "             print(\"The triangle is scalene.\")"
   ]
  },
  {
   "cell_type": "code",
   "execution_count": null,
   "id": "fdb8b199-6eff-4432-be77-d68c06af7e7a",
   "metadata": {},
   "outputs": [],
   "source": []
  },
  {
   "cell_type": "code",
   "execution_count": null,
   "id": "196d41ba-8141-4b8c-a5e2-56ccffe47a93",
   "metadata": {},
   "outputs": [],
   "source": [
    "# 13. Develop a program that checks if a year is a leap year and also if it is a century year."
   ]
  },
  {
   "cell_type": "code",
   "execution_count": 57,
   "id": "373d7fc1-e903-4af8-8d4f-34dbd9858f27",
   "metadata": {},
   "outputs": [
    {
     "name": "stdout",
     "output_type": "stream",
     "text": [
      "600 is not a leap year\n",
      "Yes, 600 is a century year \n"
     ]
    }
   ],
   "source": [
    "# Python program to check if year is a leap year or not\n",
    "\n",
    "year =600\n",
    "\n",
    "# To get year (integer input) from the user\n",
    "# year = int(input(\"Enter a year: \"))\n",
    "\n",
    "# divided by 100 means century year (ending with 00)\n",
    "# century year divided by 400 is leap year\n",
    "if (year % 400 == 0) and (year % 100 == 0):\n",
    "    print(\"{0} is a leap year\".format(year))\n",
    "\n",
    "# not divided by 100 means not a century year\n",
    "# year divided by 4 is a leap year\n",
    "elif (year % 4 ==0) and (year % 100 != 0):\n",
    "    print(\"{0} is a leap year\".format(year))\n",
    "\n",
    "# if not divided by both 400 (century year) and 4 (not century year)\n",
    "# year is not leap year\n",
    "else:\n",
    "    print(\"{0} is not a leap year\".format(year))\n",
    "    \n",
    "    \n",
    "    \n",
    "if(year%100==0):\n",
    "    print(\"Yes,\",year,\"is a century year \")\n",
    "else:\n",
    "    print(\"No,\",year,\" is not a century year\")"
   ]
  },
  {
   "cell_type": "code",
   "execution_count": null,
   "id": "4cae6a2e-423d-44b6-8b86-1b6b1024c060",
   "metadata": {},
   "outputs": [],
   "source": []
  },
  {
   "cell_type": "code",
   "execution_count": null,
   "id": "38e696d8-85b9-486b-afef-8a4dd85f7e6c",
   "metadata": {},
   "outputs": [],
   "source": []
  },
  {
   "cell_type": "code",
   "execution_count": null,
   "id": "8ed2acd1-f500-4e12-91a3-54937ef31607",
   "metadata": {},
   "outputs": [],
   "source": []
  },
  {
   "cell_type": "code",
   "execution_count": null,
   "id": "1f6493e1-45f2-4e4b-b00e-7d68b1805a62",
   "metadata": {},
   "outputs": [],
   "source": [
    "# 14. Write a Python script to determine if a number is positive, negative, or zero."
   ]
  },
  {
   "cell_type": "code",
   "execution_count": 16,
   "id": "b06bf0b7-2f4b-470a-b783-ce8a48cd92c4",
   "metadata": {},
   "outputs": [
    {
     "name": "stdin",
     "output_type": "stream",
     "text": [
      "Enter the number: -11\n"
     ]
    },
    {
     "name": "stdout",
     "output_type": "stream",
     "text": [
      "-11 is negative.\n"
     ]
    }
   ],
   "source": [
    "num=int(input(\"Enter the number:\"))\n",
    "if(num>0):\n",
    "    print(str(num)+\" is positive\")\n",
    "else:\n",
    "    if(num<0):\n",
    "        print(str(num) +\" is negative.\")\n",
    "    else:\n",
    "        print(\"The number is zero .\")"
   ]
  },
  {
   "cell_type": "code",
   "execution_count": null,
   "id": "153a6452-8c64-4881-88ea-b3253e5c15d9",
   "metadata": {},
   "outputs": [],
   "source": []
  },
  {
   "cell_type": "code",
   "execution_count": null,
   "id": "20fe62ca-f7ef-4b87-8332-ddfedd56906f",
   "metadata": {},
   "outputs": [],
   "source": [
    "# 15. Create a program to check if a person is a teenager (between 13 and 19 years old)."
   ]
  },
  {
   "cell_type": "code",
   "execution_count": 32,
   "id": "67629a99-7ec5-4ca1-8983-c6ec00e2e991",
   "metadata": {},
   "outputs": [
    {
     "name": "stdin",
     "output_type": "stream",
     "text": [
      "Enter your age: 19\n"
     ]
    },
    {
     "name": "stdout",
     "output_type": "stream",
     "text": [
      "No, you are not a teenager .\n"
     ]
    }
   ],
   "source": [
    "age=int(input(\"Enter your age:\"))\n",
    "if(age>13):\n",
    "        if(age<19):\n",
    "                print(\"Yes, you are a teenager .\")\n",
    "        else:\n",
    "                print(\"No, you are not a teenager .\")\n",
    "else:\n",
    "    print(\"No, you are not teenager .\")"
   ]
  },
  {
   "cell_type": "code",
   "execution_count": null,
   "id": "a88c6a87-f96b-48c7-9503-31685f2fea49",
   "metadata": {},
   "outputs": [],
   "source": []
  },
  {
   "cell_type": "code",
   "execution_count": null,
   "id": "5363796b-e15c-4e59-ba9a-ef83be07ff64",
   "metadata": {},
   "outputs": [],
   "source": [
    "# 16. Develop a program that determines the type of angle based on its measure (acute, obtuse, or right)."
   ]
  },
  {
   "cell_type": "code",
   "execution_count": 35,
   "id": "d1efea7e-a299-4d7e-b674-708627e9ad56",
   "metadata": {},
   "outputs": [
    {
     "name": "stdin",
     "output_type": "stream",
     "text": [
      "Enter the value of angle in degrees : 90\n"
     ]
    },
    {
     "name": "stdout",
     "output_type": "stream",
     "text": [
      "The angle is right .\n"
     ]
    }
   ],
   "source": [
    "angle=int(input(\"Enter the value of angle in degrees :\"))\n",
    "if(angle>90):\n",
    "    print(\"The angle is obtuse\")\n",
    "else:\n",
    "    if(angle<90):\n",
    "        print(\"The angle is acute.\")\n",
    "    else:\n",
    "        print(\"The angle is right .\")"
   ]
  },
  {
   "cell_type": "code",
   "execution_count": null,
   "id": "e648ae9d-6213-47bb-a5ac-808683ae33a6",
   "metadata": {},
   "outputs": [],
   "source": []
  },
  {
   "cell_type": "code",
   "execution_count": null,
   "id": "de8905e5-83d8-49bc-9fdf-70b31e53375e",
   "metadata": {},
   "outputs": [],
   "source": [
    "# 17. Write a Python program to calculate the roots of a quadratic equation."
   ]
  },
  {
   "cell_type": "code",
   "execution_count": 42,
   "id": "6867e0b0-d940-4ca4-bf6d-77aaee95cc3b",
   "metadata": {},
   "outputs": [
    {
     "name": "stdout",
     "output_type": "stream",
     "text": [
      "Quadratic equation is ax^2 + bx+ c=0 \n"
     ]
    },
    {
     "name": "stdin",
     "output_type": "stream",
     "text": [
      "Enter the value of a which is coefficient of x^2 : 1\n",
      "Enter the value of b which is coefficient of x: 3\n",
      "Enter the value of c constant term: 2\n"
     ]
    },
    {
     "name": "stdout",
     "output_type": "stream",
     "text": [
      "Roots  of Quadratic equation 1x^2 +3x +2 = 0 are -1.0 and -2.0\n"
     ]
    }
   ],
   "source": [
    "print(\"Quadratic equation is ax^2 + bx+ c=0 \")\n",
    "a=int(input(\"Enter the value of a which is coefficient of x^2 :\"))\n",
    "b=int(input(\"Enter the value of b which is coefficient of x:\"))\n",
    "c=int(input(\"Enter the value of c constant term:\"))\n",
    "x1=((-b)+((b)**2 -4*a*c)**0.5)/(2*a)\n",
    "x2=((-b)-((b)**2 -4*a*c)**0.5)/(2*a)\n",
    "print(f\"Roots  of Quadratic equation {a}x^2 +{b}x +{c} = 0 are {x1} and {x2}\")"
   ]
  },
  {
   "cell_type": "code",
   "execution_count": null,
   "id": "cbe3ec4d-2ffc-4e8d-bf54-420d9a40aa2f",
   "metadata": {},
   "outputs": [],
   "source": []
  },
  {
   "cell_type": "code",
   "execution_count": null,
   "id": "89af461e-3bdc-4855-92aa-7738a1638463",
   "metadata": {},
   "outputs": [],
   "source": []
  },
  {
   "cell_type": "code",
   "execution_count": null,
   "id": "09bd9df6-b9a8-455b-877c-e4f3fb0fe5b2",
   "metadata": {},
   "outputs": [],
   "source": [
    "18. Implement a program to determine the day of the week based on a user-provided number (1 for Monday, 2for Tuesday, etc.)."
   ]
  },
  {
   "cell_type": "code",
   "execution_count": 28,
   "id": "7d0b9228-12a5-49e8-be9d-92f183e480d7",
   "metadata": {},
   "outputs": [
    {
     "name": "stdin",
     "output_type": "stream",
     "text": [
      "Enter the number: 2\n"
     ]
    },
    {
     "name": "stdout",
     "output_type": "stream",
     "text": [
      "It is Tuesday\n"
     ]
    }
   ],
   "source": [
    "n=int(input(\"Enter the number:\"))\n",
    "if(n==1):\n",
    "    print(\"It is Monday\")\n",
    "else:\n",
    "    if(n==2):\n",
    "         print(\"It is Tuesday\")\n",
    "    else:\n",
    "        if(n==3):\n",
    "            print(\"It is Wednesday\")\n",
    "        else:\n",
    "                \n",
    "                if(n==4):\n",
    "                    print(\"It is Thrusday\")\n",
    "                else:\n",
    "                    if(n==5):\n",
    "                        print(\"It is Friday\")\n",
    "                    else:\n",
    "                        if(n==6):\n",
    "                            print(\"It is Saturday\")\n",
    "                        else:\n",
    "                            print(\"It is Sunday\")\n",
    "        "
   ]
  },
  {
   "cell_type": "code",
   "execution_count": null,
   "id": "1733e917-3005-433a-aae2-4b0176ed7e38",
   "metadata": {},
   "outputs": [],
   "source": []
  },
  {
   "cell_type": "code",
   "execution_count": null,
   "id": "9e663b59-5725-45bd-9957-f1d1e223f13a",
   "metadata": {},
   "outputs": [],
   "source": [
    "# 19. Create a program that determines if a year is a leap year and also if it is evenly divisible by 400."
   ]
  },
  {
   "cell_type": "code",
   "execution_count": 2,
   "id": "7f21b023-2a14-434e-a682-38e57b9eea72",
   "metadata": {},
   "outputs": [
    {
     "name": "stdout",
     "output_type": "stream",
     "text": [
      "2000 is a leap year \n"
     ]
    }
   ],
   "source": [
    "# Python program to check if year is a leap year or not\n",
    "\n",
    "year =2000\n",
    "\n",
    "\n",
    "# To get year (integer input) from the user\n",
    "# year = int(input(\"Enter a year: \"))\n",
    "\n",
    "# divided by 100 means century year (ending with 00)\n",
    "# century year divided by 400 is leap year\n",
    "if (year % 400 == 0) and (year % 100 == 0):\n",
    "    print(\"{0} is a leap year \".format(year))\n",
    "\n",
    "# not divided by 100 means not a century year\n",
    "# year divided by 4 is a leap year\n",
    "elif (year % 4 ==0) and (year % 100 != 0):\n",
    "    print(\"{0} is a leap year\".format(year))\n",
    "\n",
    "# if not divided by both 400 (century year) and 4 (not century year)\n",
    "# year is not leap year\n",
    "else:\n",
    "    print(\"{0} is not a leap year\".format(year))"
   ]
  },
  {
   "cell_type": "code",
   "execution_count": null,
   "id": "2cd80bb8-e650-4195-bb49-bef7ea9d1101",
   "metadata": {},
   "outputs": [],
   "source": []
  },
  {
   "cell_type": "code",
   "execution_count": null,
   "id": "cbd969fe-dd36-441b-940a-20c3d5345cd4",
   "metadata": {},
   "outputs": [],
   "source": []
  },
  {
   "cell_type": "code",
   "execution_count": null,
   "id": "d9204777-6415-4d25-939a-061951e2d3f6",
   "metadata": {},
   "outputs": [],
   "source": [
    "# 20. Develop a program that checks if a given number is prime or not using nested if-else statements."
   ]
  },
  {
   "cell_type": "code",
   "execution_count": 45,
   "id": "4eb522ba-f601-4208-8d0f-35f05e73938f",
   "metadata": {},
   "outputs": [
    {
     "name": "stdout",
     "output_type": "stream",
     "text": [
      "5 is a prime number\n"
     ]
    }
   ],
   "source": [
    "# Number to be checked for prime\n",
    "\n",
    "n=5\n",
    "\n",
    "# Check if the number is greater than 1\n",
    "\n",
    "if n > 1:\n",
    "    for i in range(2, int(n/2)+1):\n",
    "\t    if (n % i) == 0:\n",
    "\t            print(n, \"is not a prime number\")\n",
    "\t            break\n",
    "\t    else:\n",
    "\t\t        print(n, \"is a prime number\")\n",
    "                \n",
    "# If the number is less than 1, its also not a prime number.\n",
    "else:\n",
    "\tprint(n, \"is not a prime number\")"
   ]
  },
  {
   "cell_type": "code",
   "execution_count": null,
   "id": "a3ceb795-b424-4825-8e89-065d0a7f8bf0",
   "metadata": {},
   "outputs": [],
   "source": []
  },
  {
   "cell_type": "code",
   "execution_count": null,
   "id": "868ebed3-9180-43bc-a89c-f4acd2b86fbe",
   "metadata": {},
   "outputs": [],
   "source": [
    "# 21. Write a Python program to assign grades based on different ranges of scores using elif statements."
   ]
  },
  {
   "cell_type": "code",
   "execution_count": 18,
   "id": "47de3b85-37d0-4e45-86cb-17eb010cda9b",
   "metadata": {},
   "outputs": [
    {
     "name": "stdin",
     "output_type": "stream",
     "text": [
      "Enter your percent score 84\n"
     ]
    },
    {
     "name": "stdout",
     "output_type": "stream",
     "text": [
      "Good,You scored B+ grade\n"
     ]
    }
   ],
   "source": [
    "score=float(input(\"Enter your percent score\"))\n",
    "if(score>90):\n",
    "    print(\"Excellent, You scored A+ grade\")\n",
    "elif(85<score<=90):\n",
    "     print(\"Very good, You scored A grade\")\n",
    "elif(80<score<=85):\n",
    "     print(\"Good,You scored B+ grade\")\n",
    "elif(75<score<=80):\n",
    "     print(\"Above average, You scored B grade\")\n",
    "elif(70<score<=75):\n",
    "     print(\"Average,You scored C+ grade\")\n",
    "elif(65<score<=70):\n",
    "     print(\"Average,You scored C grade\")\n",
    "elif(60<score<=65):\n",
    "     print(\"Average,You scored D+ grade\")\n",
    "elif(55<score<=60):\n",
    "     print(\"Poor,You scored D grade\")\n",
    "elif(50<score<=55):\n",
    "     print(\"Very Poor,You scored E+ grade\")\n",
    "elif(45<score<=50):\n",
    "     print(\"Very very Poor,You scored E grade\")\n",
    "elif(score<=45):\n",
    "     print(\"Failed! You scored F grade\")"
   ]
  },
  {
   "cell_type": "code",
   "execution_count": null,
   "id": "154090fa-e796-4305-91d2-60a2db79839f",
   "metadata": {},
   "outputs": [],
   "source": []
  },
  {
   "cell_type": "code",
   "execution_count": null,
   "id": "51e5e84f-f729-407f-a35e-03fc409ea1ed",
   "metadata": {},
   "outputs": [],
   "source": [
    "# 22. Implement a program to determine the type of a triangle based on its angles."
   ]
  },
  {
   "cell_type": "code",
   "execution_count": 23,
   "id": "7cbb2bb8-d907-4368-a853-28b2cf9c38bf",
   "metadata": {},
   "outputs": [
    {
     "name": "stdin",
     "output_type": "stream",
     "text": [
      "Enter the value of first angle in degrees : 90\n",
      "Enter the value of second angle in degrees : 45\n",
      "Enter the value of third angle in degrees : 45\n"
     ]
    },
    {
     "name": "stdout",
     "output_type": "stream",
     "text": [
      "It is isosceles triangle\n"
     ]
    }
   ],
   "source": [
    "angle_1=int(input(\"Enter the value of first angle in degrees :\"))\n",
    "angle_2=int(input(\"Enter the value of second angle in degrees :\"))\n",
    "angle_3=int(input(\"Enter the value of third angle in degrees :\"))\n",
    "if(angle_1==angle_2==angle_3):\n",
    "    print(\"It is equilateral triangle\")\n",
    "elif(angle_1==angle_2!=angle_3 or angle_1!=angle_2==angle_3 or angle_1==angle_3!=angle_22):\n",
    "   \n",
    "        print(\"It is isosceles triangle\")\n",
    "elif(angle_1!=angle_2!=angle_3):\n",
    "    print(\"It is scalene triangle.\")"
   ]
  },
  {
   "cell_type": "code",
   "execution_count": null,
   "id": "36cfe00f-37b4-477c-8f60-33b7a99c6300",
   "metadata": {},
   "outputs": [],
   "source": []
  },
  {
   "cell_type": "code",
   "execution_count": null,
   "id": "5cf9e0b7-d9dd-4b65-8490-a987c369ad7c",
   "metadata": {},
   "outputs": [],
   "source": [
    "# 23. Develop a program to categorize a given person's BMI into underweight, normal, overweight, or obese using elif statements."
   ]
  },
  {
   "cell_type": "code",
   "execution_count": 16,
   "id": "9fe38bb4-53e5-4a9f-b80a-f60be58b22a0",
   "metadata": {},
   "outputs": [
    {
     "name": "stdin",
     "output_type": "stream",
     "text": [
      "Enter your BMI : 24.98\n"
     ]
    },
    {
     "name": "stdout",
     "output_type": "stream",
     "text": [
      "You are normal \n"
     ]
    }
   ],
   "source": [
    "\n",
    "\n",
    "\n",
    "bmi=float(input(\"Enter your BMI :\"))\n",
    "if(bmi<18.5):\n",
    "        print(\"You are underweight \")\n",
    "elif(bmi>=18.5 and bmi<25):\n",
    "        print(\"You are normal \")\n",
    "elif(bmi>=25 and bmi<30):\n",
    "        print(\"You are overweight \")\n",
    "elif(bmi>=30):\n",
    "        print(\"You are obese \")\n",
    "        "
   ]
  },
  {
   "cell_type": "markdown",
   "id": "15de6d49-88bb-41f0-b67d-5a4b1fe37cbe",
   "metadata": {},
   "source": []
  },
  {
   "cell_type": "code",
   "execution_count": null,
   "id": "f6d7a106-dca7-4ed7-b680-3ed0e7fa0695",
   "metadata": {},
   "outputs": [],
   "source": [
    "# 24. Create a program that determines whether a given number is positive, negative, or zero using elif\n",
    "# statements."
   ]
  },
  {
   "cell_type": "code",
   "execution_count": 19,
   "id": "b4dfdf53-4f49-4600-947c-ec80c85eda6f",
   "metadata": {},
   "outputs": [
    {
     "name": "stdin",
     "output_type": "stream",
     "text": [
      "Enter the number: 0\n"
     ]
    },
    {
     "name": "stdout",
     "output_type": "stream",
     "text": [
      "The number is zero .\n"
     ]
    }
   ],
   "source": [
    "num=int(input(\"Enter the number:\"))\n",
    "if(num>0):\n",
    "    print(str(num)+\" is positive\")\n",
    "elif(num<0):\n",
    "        print(str(num) +\" is negative.\")\n",
    "elif(num==0):\n",
    "        print(\"The number is zero .\")"
   ]
  },
  {
   "cell_type": "code",
   "execution_count": null,
   "id": "fee2bf88-aaba-4e7f-a03c-0fea3862fafb",
   "metadata": {},
   "outputs": [],
   "source": []
  },
  {
   "cell_type": "code",
   "execution_count": 21,
   "id": "bb7e32ff-980e-4032-bcaf-a10396844aae",
   "metadata": {},
   "outputs": [],
   "source": [
    "# 25. Write a Python script to determine the type of a character (uppercase, lowercase, or special) using elif statements."
   ]
  },
  {
   "cell_type": "code",
   "execution_count": 5,
   "id": "07b223c6-e98e-4073-bef8-ded5714aac64",
   "metadata": {},
   "outputs": [
    {
     "name": "stdin",
     "output_type": "stream",
     "text": [
      "Enter the character : GO\n"
     ]
    },
    {
     "name": "stdout",
     "output_type": "stream",
     "text": [
      "It is uppercase character\n"
     ]
    }
   ],
   "source": [
    "char=input(\"Enter the character :\")\n",
    "if(char.isupper()):\n",
    "    print(\"It is uppercase character\")\n",
    "elif(char.islower()):\n",
    "    print(\"It is lowercase character\")\n",
    "elif(char.isalnum()==False):\n",
    "    print(\"It is special character\")"
   ]
  },
  {
   "cell_type": "code",
   "execution_count": null,
   "id": "919f50fe-720e-43c3-9c0f-350b4a454864",
   "metadata": {},
   "outputs": [],
   "source": []
  },
  {
   "cell_type": "code",
   "execution_count": null,
   "id": "8c95b8c0-f0c7-4393-8d20-bb2e2fd130fd",
   "metadata": {},
   "outputs": [],
   "source": [
    "# 26. Implement a program to calculate the discounted price based on different purchase amounts using elif statements"
   ]
  },
  {
   "cell_type": "code",
   "execution_count": 14,
   "id": "ba826bff-69e1-4521-aa24-ecd90a89267e",
   "metadata": {},
   "outputs": [
    {
     "name": "stdin",
     "output_type": "stream",
     "text": [
      "Enter purchase amount:  9000\n"
     ]
    },
    {
     "name": "stdout",
     "output_type": "stream",
     "text": [
      "Discount Amount = 400.00\n",
      "Net Bill Amount = 8600.00\n"
     ]
    }
   ],
   "source": [
    "p=int(input('Enter purchase amount: '))\n",
    "\n",
    "if p<=5000:\n",
    "    dis=0\n",
    "elif p>5000 and p<=10000:\n",
    "    dis=(p-5000)*(10/100.0)\n",
    "elif p>10000 and p<=20000:\n",
    "    dis=(p-10000)*(20/100.0)\n",
    "elif p>20000 and p<=30000:\n",
    "    dis=(p-20000)*(30/100.0)\n",
    "else:\n",
    "    dis=(p-30000)*(40/100.0)\n",
    "\n",
    "print('Discount Amount = {:.2f}'.format(dis))\n",
    "print('Net Bill Amount = {:.2f}'.format(p-dis))"
   ]
  },
  {
   "cell_type": "code",
   "execution_count": null,
   "id": "55719965-1b7f-44bc-9d9e-565508e7fbe9",
   "metadata": {},
   "outputs": [],
   "source": []
  },
  {
   "cell_type": "code",
   "execution_count": null,
   "id": "fbfedd58-f545-42e4-80e4-a5d30f0d056f",
   "metadata": {},
   "outputs": [],
   "source": [
    "# 27. Develop a program to calculate the electricity bill based on different consumption slabs using elif statements."
   ]
  },
  {
   "cell_type": "code",
   "execution_count": 21,
   "id": "7dcd5f76-21ed-4975-b236-03fee8517fed",
   "metadata": {},
   "outputs": [
    {
     "name": "stdout",
     "output_type": "stream",
     "text": [
      "The net electricity bill is for 300 units consumed is Rs.4500\n"
     ]
    }
   ],
   "source": [
    "def calculateBill(units):\n",
    " \n",
    "\n",
    "    if (units <= 100):\n",
    "      \n",
    "        return units * 10;\n",
    "     \n",
    "    elif (units <= 200):\n",
    "     \n",
    "        return ((100 * 10) +\n",
    "                (units - 100) * 15);\n",
    "     \n",
    "    elif (units <= 300):\n",
    "      \n",
    "        return ((100 * 10) +\n",
    "                (100 * 15) +\n",
    "                (units - 200) * 20);\n",
    "     \n",
    "    elif (units > 300):\n",
    "     \n",
    "        return ((100 * 10) +\n",
    "                (100 * 15) +\n",
    "                (100 * 20) +\n",
    "                (units - 300) * 25);\n",
    "     \n",
    "    return 0;\n",
    " \n",
    "units=300\n",
    "print(f\"The net electricity bill is for {units} units consumed is Rs.{calculateBill(units)}\")\n",
    " "
   ]
  },
  {
   "cell_type": "code",
   "execution_count": null,
   "id": "4bceacbb-1a8d-4fe7-8dc5-205599829b78",
   "metadata": {},
   "outputs": [],
   "source": [
    "# 28. Create a program to determine the type of quadrilateral based on its angles and sides using elif statements."
   ]
  },
  {
   "cell_type": "code",
   "execution_count": 11,
   "id": "979c05fa-b576-4429-bbf2-a84205b2a9f8",
   "metadata": {},
   "outputs": [
    {
     "name": "stdin",
     "output_type": "stream",
     "text": [
      "Enter the angle 1: 90\n",
      "Enter the angle 2: 90\n",
      "Enter the angle 3: 90\n",
      "Enter the angle 4: 90\n",
      "Enter the side 1: 12\n",
      "Enter the side 2: 12\n",
      "Enter the side 3: 144\n",
      "Enter the side 4: 144\n"
     ]
    },
    {
     "name": "stdout",
     "output_type": "stream",
     "text": [
      "it is simple quadrilateral\n"
     ]
    }
   ],
   "source": [
    "a=float(input(\"Enter the angle 1:\"))\n",
    "b=float(input(\"Enter the angle 2:\"))\n",
    "c=float(input(\"Enter the angle 3:\"))\n",
    "d=float(input(\"Enter the angle 4:\"))\n",
    "ab=float(input(\"Enter the side 1:\"))\n",
    "bc=float(input(\"Enter the side 2:\"))\n",
    "cd=float(input(\"Enter the side 3:\"))\n",
    "ad=float(input(\"Enter the side 4:\"))\n",
    "if(a==b==c==d==90 and ab==bc==cd==ad):\n",
    "    print(\"The given quadrilateral is a square.\")\n",
    "elif(a==b==c==d==90 and   ab==cd and bc==ad ):\n",
    "                          # or(ab==bc and cd ==ad) or(ab==ad and bc==cd))):\n",
    "    print(\"The given quadrilateral is a rectangle.\")\n",
    "elif(ab==cd==bc==ad):\n",
    "    print(\"The given quadrilateral is a rhombus.\")\n",
    "# elif(a==b==c==d==90 and ab==cd and bc==ad):\n",
    "#     print(\"The given quadrilateral is a square.\")\n",
    "elif( ab==cd and bc==ad) :\n",
    "    print(\"The given quadrilateral is a parallelogram.\")\n",
    "else:\n",
    "    print(\"it is simple quadrilateral\")\n",
    "    \n"
   ]
  },
  {
   "cell_type": "code",
   "execution_count": null,
   "id": "88db275f-8181-49c0-b659-5bc6fea9d2a6",
   "metadata": {},
   "outputs": [],
   "source": []
  },
  {
   "cell_type": "code",
   "execution_count": null,
   "id": "2bf977e5-40b3-4f43-b15d-24abfbacca9f",
   "metadata": {},
   "outputs": [],
   "source": [
    "# 29. Write a Python script to determine the season based on a user-provided month using elif statements."
   ]
  },
  {
   "cell_type": "code",
   "execution_count": 4,
   "id": "fcfaf4cd-0b65-44dd-85b0-0f8ebcb248c7",
   "metadata": {},
   "outputs": [
    {
     "name": "stdin",
     "output_type": "stream",
     "text": [
      "Input the month (e.g. January, February etc.):  April\n"
     ]
    },
    {
     "name": "stdout",
     "output_type": "stream",
     "text": [
      "Season is spring\n"
     ]
    }
   ],
   "source": [
    "\n",
    "month = input(\"Input the month (e.g. January, February etc.): \")\n",
    "\n",
    "if month in ('November','December','January', 'February'):\n",
    "\tseason = 'winter'\n",
    "elif month in ( 'March','April'):\n",
    "\tseason = 'spring'\n",
    "elif month in ( 'May','June','July'):\n",
    "\tseason = 'summer'\n",
    "elif month in (  'August', 'September','October'):\n",
    "\tseason = 'autumn'\n",
    "\n",
    "print(\"Season is\",season)\n"
   ]
  },
  {
   "cell_type": "code",
   "execution_count": null,
   "id": "3a0d0d68-d923-492f-bc83-9c3f2d0a1c0e",
   "metadata": {},
   "outputs": [],
   "source": []
  },
  {
   "cell_type": "code",
   "execution_count": null,
   "id": "fa79eb59-6379-41f3-9723-b151d826f724",
   "metadata": {},
   "outputs": [],
   "source": [
    "# 30. Implement a program to determine the type of a year (leap or common) and month (30 or 31 days) using\n",
    "# elif statements"
   ]
  },
  {
   "cell_type": "code",
   "execution_count": 25,
   "id": "9ca7277b-fff3-483b-b085-6dc6274eaea2",
   "metadata": {},
   "outputs": [
    {
     "name": "stdin",
     "output_type": "stream",
     "text": [
      "Enter the month:  9\n",
      "Enter the year:  2023\n"
     ]
    },
    {
     "name": "stdout",
     "output_type": "stream",
     "text": [
      "Number of days is 30\n",
      "2023 is not a leap year.It is a common year.\n"
     ]
    }
   ],
   "source": [
    "month = int(input(\"Enter the month: \"))\n",
    "year = int(input(\"Enter the year: \"))\n",
    "if(month == 1 or month == 3 or month == 5 or month == 7 or month == 8 or month == 10 or month == 12):\n",
    "\tprint(\"Number of days is 31\")\n",
    "elif((month == 2) and ((year%400==0) or (year%4==0 and year%100!=0))):\t\n",
    "\tprint(\"Number of days is 29\")\n",
    "elif(month == 2):\n",
    "\tprint(\" of days is 28\")\n",
    "else:\n",
    "\tprint(\"Number of days is 30\")\n",
    "    \n",
    "if (year % 400 == 0) and (year % 100 == 0):\n",
    "    print(\"{0} is a leap year \".format(year))\n",
    "\n",
    "# not divided by 100 means not a century year\n",
    "# year divided by 4 is a leap year\n",
    "elif (year % 4 ==0) and (year % 100 != 0):\n",
    "    print(\"{0} is a leap year\".format(year))\n",
    "\n",
    "# if not divided by both 400 (century year) and 4 (not century year)\n",
    "# year is not leap year\n",
    "else:\n",
    "    print(\"{0} is not a leap year.It is a common year.\".format(year))    \n",
    "    \n",
    "    \n"
   ]
  },
  {
   "cell_type": "code",
   "execution_count": null,
   "id": "81a29a44-66e9-401e-92bd-e63cd8d8acee",
   "metadata": {},
   "outputs": [],
   "source": []
  },
  {
   "cell_type": "code",
   "execution_count": null,
   "id": "fd7601bd-e595-45fe-88b5-280731cc77bc",
   "metadata": {},
   "outputs": [],
   "source": []
  },
  {
   "cell_type": "code",
   "execution_count": null,
   "id": "ea4c95d2-f5e9-463b-bbb9-c9edd0b96318",
   "metadata": {},
   "outputs": [],
   "source": [
    "# 1. Write a Python program that checks if a given number is positive, negative, or zero."
   ]
  },
  {
   "cell_type": "code",
   "execution_count": 5,
   "id": "f760612e-304a-432b-80a1-08f59851e0b2",
   "metadata": {},
   "outputs": [
    {
     "name": "stdin",
     "output_type": "stream",
     "text": [
      "Enter the number: -123\n"
     ]
    },
    {
     "name": "stdout",
     "output_type": "stream",
     "text": [
      "The number is negative\n"
     ]
    }
   ],
   "source": [
    "number=int(input(\"Enter the number:\"))\n",
    "if(number>0):\n",
    "    print(\"The number is positive\")\n",
    "else:\n",
    "    if(number<0):\n",
    "        print(\"The number is negative\")\n",
    "    else:\n",
    "        print(\"The number is zero\")\n",
    "    "
   ]
  },
  {
   "cell_type": "code",
   "execution_count": null,
   "id": "bcca1cd3-81d9-4871-b040-4ef645530321",
   "metadata": {},
   "outputs": [],
   "source": []
  },
  {
   "cell_type": "code",
   "execution_count": null,
   "id": "16305ba9-b5e0-4709-95a8-a930e13cdaa8",
   "metadata": {},
   "outputs": [],
   "source": [
    "# 2. Create a program to determine if a person is eligible to vote based on their age."
   ]
  },
  {
   "cell_type": "code",
   "execution_count": null,
   "id": "1af945c4-cec6-40d1-9c4c-09e060d278d5",
   "metadata": {},
   "outputs": [],
   "source": []
  },
  {
   "cell_type": "code",
   "execution_count": 10,
   "id": "a99a3377-1602-4904-8146-f8b79caf4b54",
   "metadata": {},
   "outputs": [
    {
     "name": "stdin",
     "output_type": "stream",
     "text": [
      "Enter your age: 90\n"
     ]
    },
    {
     "name": "stdout",
     "output_type": "stream",
     "text": [
      "You are eligible to vote\n"
     ]
    }
   ],
   "source": [
    "age=int(input(\"Enter your age:\"))\n",
    "if(age>=18):\n",
    "      print(\"You are eligible to vote\")\n",
    "else:\n",
    "      print(\"You are not eligible to vote\")"
   ]
  },
  {
   "cell_type": "code",
   "execution_count": null,
   "id": "33f25bcb-2142-43cd-b5b3-64a291497cfa",
   "metadata": {},
   "outputs": [],
   "source": []
  },
  {
   "cell_type": "code",
   "execution_count": null,
   "id": "f8a22c8e-fd97-4829-a5e3-7cc84d3dab95",
   "metadata": {},
   "outputs": [],
   "source": [
    "# 3. Write a program to find the maximum of two given numbers using conditional statements."
   ]
  },
  {
   "cell_type": "code",
   "execution_count": 18,
   "id": "2d7e11e9-fde7-4b27-816e-8af93ef836bb",
   "metadata": {},
   "outputs": [
    {
     "name": "stdout",
     "output_type": "stream",
     "text": [
      "Maximum of 7 and 40 is 40\n"
     ]
    }
   ],
   "source": [
    "a=7\n",
    "b=40\n",
    "if(a>b):\n",
    "    print(f\"Maximum of {a} and {b} is {a}\")\n",
    "else:\n",
    "    print(f\"Maximum of {a} and {b} is {b}\")"
   ]
  },
  {
   "cell_type": "code",
   "execution_count": null,
   "id": "e5608714-6ad5-4ecc-afaf-8043a676da53",
   "metadata": {},
   "outputs": [],
   "source": []
  },
  {
   "cell_type": "code",
   "execution_count": null,
   "id": "442a9e60-51ac-470e-b830-1c6f587ad519",
   "metadata": {},
   "outputs": [],
   "source": [
    "# 4. Develop a program that calculates the grade of a student based on their exam score."
   ]
  },
  {
   "cell_type": "code",
   "execution_count": 21,
   "id": "d4f27d06-a993-45fc-9fb0-b2dfeb8b789f",
   "metadata": {},
   "outputs": [
    {
     "name": "stdin",
     "output_type": "stream",
     "text": [
      "Enter your percent score: 95\n"
     ]
    },
    {
     "name": "stdout",
     "output_type": "stream",
     "text": [
      "Excellent, You scored A+ grade\n"
     ]
    }
   ],
   "source": [
    "score=float(input(\"Enter your percent score:\"))\n",
    "if(score>90):\n",
    "    print(\"Excellent, You scored A+ grade\")\n",
    "elif(85<score<=90):\n",
    "     print(\"Very good, You scored A grade\")\n",
    "elif(80<score<=85):\n",
    "     print(\"Good,You scored B+ grade\")\n",
    "elif(75<score<=80):\n",
    "     print(\"Above average, You scored B grade\")\n",
    "elif(70<score<=75):\n",
    "     print(\"Average,You scored C+ grade\")\n",
    "elif(65<score<=70):\n",
    "     print(\"Average,You scored C grade\")\n",
    "elif(60<score<=65):\n",
    "     print(\"Average,You scored D+ grade\")\n",
    "elif(55<score<=60):\n",
    "     print(\"Poor,You scored D grade\")\n",
    "elif(50<score<=55):\n",
    "     print(\"Very Poor,You scored E+ grade\")\n",
    "elif(45<score<=50):\n",
    "     print(\"Very very Poor,You scored E grade\")\n",
    "elif(score<=45):\n",
    "     print(\"Failed! You scored F grade\")"
   ]
  },
  {
   "cell_type": "code",
   "execution_count": null,
   "id": "77574291-36e3-4c73-9d12-30ac2d7a8533",
   "metadata": {},
   "outputs": [],
   "source": []
  },
  {
   "cell_type": "code",
   "execution_count": null,
   "id": "2ea9d0de-a724-4a37-8f58-eab89aa12ffd",
   "metadata": {},
   "outputs": [],
   "source": [
    "# 5. Create a program that checks if a year is a leap year or not."
   ]
  },
  {
   "cell_type": "code",
   "execution_count": 10,
   "id": "67e8da93-aad4-4481-b16d-3466383faafd",
   "metadata": {},
   "outputs": [
    {
     "name": "stdout",
     "output_type": "stream",
     "text": [
      "2004 is a leap year\n"
     ]
    }
   ],
   "source": [
    "\n",
    "# Python program to check if year is a leap year or not\n",
    "\n",
    "year =2004\n",
    "\n",
    "# To get year (integer input) from the user\n",
    "# year = int(input(\"Enter a year: \"))\n",
    "\n",
    "# divided by 100 means century year (ending with 00)\n",
    "# century year divided by 400 is leap year\n",
    "if (year % 400 == 0) and (year % 100 == 0):\n",
    "    print(\"{0} is a leap year\".format(year))\n",
    "\n",
    "# not divided by 100 means not a century year\n",
    "# year divided by 4 is a leap year\n",
    "elif (year % 4 ==0) and (year % 100 != 0):\n",
    "    print(\"{0} is a leap year\".format(year))\n",
    "\n",
    "# if not divided by both 400 (century year) and 4 (not century year)\n",
    "# year is not leap year\n",
    "else:\n",
    "    print(\"{0} is not a leap year\".format(year))        \n",
    "           "
   ]
  },
  {
   "cell_type": "code",
   "execution_count": null,
   "id": "2672fe89-cd5a-4f8d-838a-5b85409faaac",
   "metadata": {},
   "outputs": [],
   "source": []
  },
  {
   "cell_type": "code",
   "execution_count": null,
   "id": "55cd47b8-9d45-46c9-ad25-5111ce554e7f",
   "metadata": {},
   "outputs": [],
   "source": [
    "# 6. Write a program to classify a triangle based on its sides' lengths."
   ]
  },
  {
   "cell_type": "code",
   "execution_count": 27,
   "id": "75808747-9b2c-4ddb-b963-69c9ae3b8c1f",
   "metadata": {},
   "outputs": [
    {
     "name": "stdin",
     "output_type": "stream",
     "text": [
      "Enter the side 1 length: 12\n",
      "Enter the side 2 length: 23\n",
      "Enter the side 3 length: 34\n"
     ]
    },
    {
     "name": "stdout",
     "output_type": "stream",
     "text": [
      "The triangle is scalene.\n"
     ]
    }
   ],
   "source": [
    "side_1=int(input(\"Enter the side 1 length:\"))\n",
    "side_2=int(input(\"Enter the side 2 length:\"))\n",
    "side_3=int(input(\"Enter the side 3 length:\"))\n",
    "if(side_1==side_2):\n",
    "    if(side_1==side_3):\n",
    "        print(\"The triangle is equilateral .\")\n",
    "    else:\n",
    "        print(\"The triangle is isosceles .\")\n",
    "else:\n",
    "    if(side_1!=side_2):\n",
    "        if(side_1==side_3):\n",
    "            print(\"The triangle is isosceles .\")\n",
    "        else:\n",
    "             print(\"The triangle is scalene.\")"
   ]
  },
  {
   "cell_type": "code",
   "execution_count": null,
   "id": "a95be90b-69d9-41d6-8945-fb62b8f898d5",
   "metadata": {},
   "outputs": [],
   "source": []
  },
  {
   "cell_type": "code",
   "execution_count": null,
   "id": "09e95d8e-ac85-4007-85d4-d7e76223b44c",
   "metadata": {},
   "outputs": [],
   "source": [
    "# 7. Build a program that determines the largest of three given numbers."
   ]
  },
  {
   "cell_type": "code",
   "execution_count": 29,
   "id": "7fef877b-bc50-48f4-9eba-60d817b54842",
   "metadata": {},
   "outputs": [
    {
     "name": "stdin",
     "output_type": "stream",
     "text": [
      "Enter the 1st number : 23\n",
      "Enter the 2nd number : 5689\n",
      "Enter the 3rd number : 7890\n"
     ]
    },
    {
     "name": "stdout",
     "output_type": "stream",
     "text": [
      "7890 is the  largest  number \n"
     ]
    }
   ],
   "source": [
    "a=int(input(\"Enter the 1st number :\"))\n",
    "b=int(input(\"Enter the 2nd number :\"))\n",
    "c=int(input(\"Enter the 3rd number :\"))\n",
    "if(a>b):\n",
    "    if(a>c):\n",
    "        print(str(a)+\" is the  largest  number \")\n",
    "    else:  \n",
    "        print(str(c)+\" is the  largest  number \")\n",
    "else:  \n",
    "    if(b>c):  \n",
    "        print(str(b)+\" is the  largest  number \")\n",
    "    else: \n",
    "        print(str(c)+\" is the  largest  number \")\n",
    "        "
   ]
  },
  {
   "cell_type": "code",
   "execution_count": null,
   "id": "1879db94-fbf5-4d35-8043-844e6824fb66",
   "metadata": {},
   "outputs": [],
   "source": []
  },
  {
   "cell_type": "code",
   "execution_count": null,
   "id": "d8e1ff6c-b9fc-4dea-8efc-f780d1c76860",
   "metadata": {},
   "outputs": [],
   "source": [
    "# 8. Develop a program that checks whether a character is a vowel or a consonant."
   ]
  },
  {
   "cell_type": "code",
   "execution_count": 32,
   "id": "228c655a-6620-40e8-a674-9c64c30d024d",
   "metadata": {},
   "outputs": [
    {
     "name": "stdin",
     "output_type": "stream",
     "text": [
      "Enter the character :  p\n"
     ]
    },
    {
     "name": "stdout",
     "output_type": "stream",
     "text": [
      "The character is a consonant\n"
     ]
    }
   ],
   "source": [
    "character=input(\"Enter the character : \")\n",
    "if(character=='a' or character=='e'  or character=='i' or character=='o' or character=='u'):\n",
    "    print(\"The character is a vowel \")\n",
    "else:\n",
    "     print(\"The character is a consonant\")         "
   ]
  },
  {
   "cell_type": "code",
   "execution_count": null,
   "id": "94b4b6f8-6713-4aea-b893-4e9edb077bac",
   "metadata": {},
   "outputs": [],
   "source": []
  },
  {
   "cell_type": "code",
   "execution_count": 25,
   "id": "976ba5d4-f2b9-4b7f-9ea6-b98b6c83d20a",
   "metadata": {},
   "outputs": [],
   "source": [
    "# 9. Create a program to calculate the total cost of a shopping cart based on discounts."
   ]
  },
  {
   "cell_type": "code",
   "execution_count": 27,
   "id": "4a6bd0e8-b730-4683-8a26-0b377f516d9c",
   "metadata": {},
   "outputs": [
    {
     "name": "stdin",
     "output_type": "stream",
     "text": [
      "Enter purchase amount:  7600\n"
     ]
    },
    {
     "name": "stdout",
     "output_type": "stream",
     "text": [
      "Discount Amount = 260.00\n",
      "Net Bill Amount = 7340.00\n"
     ]
    }
   ],
   "source": [
    "p=int(input('Enter purchase amount: '))\n",
    "\n",
    "if p<=5000:\n",
    "    dis=0\n",
    "elif p>5000 and p<=10000:\n",
    "    dis=(p-5000)*(10/100.0)\n",
    "elif p>10000 and p<=20000:\n",
    "    dis=(p-10000)*(20/100.0)\n",
    "elif p>20000 and p<=30000:\n",
    "    dis=(p-20000)*(30/100.0)\n",
    "else:\n",
    "    dis=(p-30000)*(40/100.0)\n",
    "\n",
    "print('Discount Amount = {:.2f}'.format(dis))\n",
    "print('Net Bill Amount = {:.2f}'.format(p-dis))"
   ]
  },
  {
   "cell_type": "code",
   "execution_count": null,
   "id": "7373d090-80f4-493e-baa5-ebbb64a6ad50",
   "metadata": {
    "tags": []
   },
   "outputs": [],
   "source": [
    "# 10. Write a program that checks if a given number is even or odd."
   ]
  },
  {
   "cell_type": "code",
   "execution_count": 35,
   "id": "c2aa0e41-0773-42ae-8c6e-d52b4ecf88c5",
   "metadata": {},
   "outputs": [
    {
     "name": "stdin",
     "output_type": "stream",
     "text": [
      "Enter the number: 2\n"
     ]
    },
    {
     "name": "stdout",
     "output_type": "stream",
     "text": [
      "The number is even \n"
     ]
    }
   ],
   "source": [
    "num=int(input(\"Enter the number:\"))\n",
    "if(num%2==0):\n",
    "    print(\"The number is even \")\n",
    "else:\n",
    "    print(\"The number is odd  \")"
   ]
  },
  {
   "cell_type": "code",
   "execution_count": null,
   "id": "c2c23e41-3e6d-4ca8-85d2-08d8e6626e77",
   "metadata": {},
   "outputs": [],
   "source": []
  },
  {
   "cell_type": "code",
   "execution_count": null,
   "id": "81f0fc9f-f8b4-4a36-bc41-a8f0251d8c5e",
   "metadata": {},
   "outputs": [],
   "source": [
    "# 11. Write a program that calculates the roots of a quadratic equation."
   ]
  },
  {
   "cell_type": "code",
   "execution_count": 58,
   "id": "fa546b6a-57ff-464d-916a-859440958c48",
   "metadata": {},
   "outputs": [
    {
     "name": "stdout",
     "output_type": "stream",
     "text": [
      "Quadratic equation is ax^2 + bx+ c=0 \n"
     ]
    },
    {
     "name": "stdin",
     "output_type": "stream",
     "text": [
      "Enter the value of a which is coefficient of x^2 : 8\n",
      "Enter the value of b which is coefficient of x: 3\n",
      "Enter the value of c constant term: 5\n"
     ]
    },
    {
     "name": "stdout",
     "output_type": "stream",
     "text": [
      "Roots  of Quadratic equation 8x^2 +3x +5 = 0 are (-0.18749999999999994+0.7680128579652817j) and (-0.18750000000000006-0.7680128579652817j)\n"
     ]
    }
   ],
   "source": [
    "print(\"Quadratic equation is ax^2 + bx+ c=0 \")\n",
    "a=int(input(\"Enter the value of a which is coefficient of x^2 :\"))\n",
    "b=int(input(\"Enter the value of b which is coefficient of x:\"))\n",
    "c=int(input(\"Enter the value of c constant term:\"))\n",
    "x1=((-b)+((b)**2 -4*a*c)**0.5)/(2*a)\n",
    "x2=((-b)-((b)**2 -4*a*c)**0.5)/(2*a)\n",
    "print(f\"Roots  of Quadratic equation {a}x^2 +{b}x +{c} = 0 are {x1} and {x2}\")"
   ]
  },
  {
   "cell_type": "code",
   "execution_count": null,
   "id": "d65c13b4-c455-4083-a2d6-761498553d67",
   "metadata": {},
   "outputs": [],
   "source": []
  },
  {
   "cell_type": "code",
   "execution_count": null,
   "id": "bf01b537-633e-43c4-a743-d08ab4808ce0",
   "metadata": {},
   "outputs": [],
   "source": [
    "# 12. Create a program that determines the day of the week based on the day number (1-7)."
   ]
  },
  {
   "cell_type": "code",
   "execution_count": 59,
   "id": "d1f9ac3b-9361-4869-9ab2-7cd19bb6d0b9",
   "metadata": {},
   "outputs": [
    {
     "name": "stdin",
     "output_type": "stream",
     "text": [
      "Enter the number: 4\n"
     ]
    },
    {
     "name": "stdout",
     "output_type": "stream",
     "text": [
      "It is Thrusday\n"
     ]
    }
   ],
   "source": [
    "n=int(input(\"Enter the number:\"))\n",
    "if(n==1):\n",
    "    print(\"It is Monday\")\n",
    "else:\n",
    "    if(n==2):\n",
    "         print(\"It is Tuesday\")\n",
    "    else:\n",
    "        if(n==3):\n",
    "            print(\"It is Wednesday\")\n",
    "        else:\n",
    "                \n",
    "                if(n==4):\n",
    "                    print(\"It is Thrusday\")\n",
    "                else:\n",
    "                    if(n==5):\n",
    "                        print(\"It is Friday\")\n",
    "                    else:\n",
    "                        if(n==6):\n",
    "                            print(\"It is Saturday\")\n",
    "                        else:\n",
    "                            print(\"It is Sunday\")\n",
    "        "
   ]
  },
  {
   "cell_type": "code",
   "execution_count": null,
   "id": "791ace80-0cd9-45e0-a45d-116228641408",
   "metadata": {},
   "outputs": [],
   "source": []
  },
  {
   "cell_type": "code",
   "execution_count": null,
   "id": "d1bb4d53-d497-4086-b5b5-6970d17a1bd8",
   "metadata": {},
   "outputs": [],
   "source": [
    "# 13. Develop a program that calculates the factorial of a given number using recursion."
   ]
  },
  {
   "cell_type": "code",
   "execution_count": 6,
   "id": "265e54f7-dfbc-498a-8679-fc696abfa369",
   "metadata": {},
   "outputs": [
    {
     "name": "stdout",
     "output_type": "stream",
     "text": [
      "The factorial of 7 is 5040\n"
     ]
    }
   ],
   "source": [
    "# Factorial of a number using recursion\n",
    "\n",
    "def recur_factorial(n):\n",
    "   \n",
    "   if n == 1:\n",
    "    return n\n",
    "   else:\n",
    "    return n*recur_factorial(n-1)\n",
    "\n",
    "num = 7\n",
    "# check if the number is negative\n",
    "if num < 0:\n",
    "    print(\"Sorry, factorial does not exist for negative numbers\")\n",
    "elif num == 0:\n",
    "    print(\"The factorial of 0 is 1\")\n",
    "else:\n",
    "    print(\"The factorial of\", num, \"is\", recur_factorial(num))\n"
   ]
  },
  {
   "cell_type": "code",
   "execution_count": null,
   "id": "c5ef6c55-c166-4310-9a0b-4cf2980c1b29",
   "metadata": {},
   "outputs": [],
   "source": []
  },
  {
   "cell_type": "code",
   "execution_count": null,
   "id": "1cff8fc5-3032-40b0-863f-593f449090dc",
   "metadata": {},
   "outputs": [],
   "source": [
    "# 14. Write a program to find the largest among three numbers without using the `max()` function."
   ]
  },
  {
   "cell_type": "code",
   "execution_count": null,
   "id": "a4ce0c07-a3e5-4125-b569-8c6db119464c",
   "metadata": {},
   "outputs": [],
   "source": [
    "a=int(input(\"Enter the 1st number :\"))\n",
    "b=int(input(\"Enter the 2nd number :\"))\n",
    "c=int(input(\"Enter the 3rd number :\"))\n",
    "if(a>b):\n",
    "    if(a>c):\n",
    "        print(str(a)+\" is the greatest number \")\n",
    "    else:\n",
    "        print(str(c)+\" is the greatest number \")\n",
    "else:\n",
    "    if(b>c):\n",
    "        print(str(b)+\" is the greatest number \")\n",
    "    else:\n",
    "        print(str(c)+\" is the greatest number \")\n",
    "        "
   ]
  },
  {
   "cell_type": "code",
   "execution_count": null,
   "id": "0849708d-2e43-4246-9786-1433a6a5c1e5",
   "metadata": {},
   "outputs": [],
   "source": []
  },
  {
   "cell_type": "code",
   "execution_count": null,
   "id": "477e2e30-a768-46be-8b94-de1c5c14d583",
   "metadata": {},
   "outputs": [],
   "source": [
    "# 15. Create a program that simulates a basic ATM transaction menu."
   ]
  },
  {
   "cell_type": "code",
   "execution_count": 22,
   "id": "6c535f7b-886c-41bf-a711-df855af9eb2b",
   "metadata": {},
   "outputs": [
    {
     "name": "stdout",
     "output_type": "stream",
     "text": [
      "Welcome to SBI ATM\n"
     ]
    },
    {
     "name": "stdin",
     "output_type": "stream",
     "text": [
      "Please Enter You 4 Digit Pin:  1234\n"
     ]
    },
    {
     "name": "stdout",
     "output_type": "stream",
     "text": [
      "Incorrect Password\n"
     ]
    },
    {
     "name": "stdin",
     "output_type": "stream",
     "text": [
      "Please Enter You 4 Digit Pin:  9714\n"
     ]
    },
    {
     "name": "stdout",
     "output_type": "stream",
     "text": [
      "You entered you pin Correctly\n",
      "\n",
      "Please Press 1 For Your Balance\n",
      "\n",
      "Please Press 2 To Make a Withdrawl\n",
      "\n",
      "Please Press 3 To Pay in\n",
      "\n",
      "Please Press 4 To Return Card\n",
      "\n"
     ]
    },
    {
     "name": "stdin",
     "output_type": "stream",
     "text": [
      "What Would you like to choose? 1\n"
     ]
    },
    {
     "name": "stdout",
     "output_type": "stream",
     "text": [
      "Your Balance is Rs. 100001 \n",
      "\n"
     ]
    },
    {
     "name": "stdin",
     "output_type": "stream",
     "text": [
      "Would You you like to go back?  y\n"
     ]
    },
    {
     "name": "stdout",
     "output_type": "stream",
     "text": [
      "Please Press 1 For Your Balance\n",
      "\n",
      "Please Press 2 To Make a Withdrawl\n",
      "\n",
      "Please Press 3 To Pay in\n",
      "\n",
      "Please Press 4 To Return Card\n",
      "\n"
     ]
    },
    {
     "name": "stdin",
     "output_type": "stream",
     "text": [
      "What Would you like to choose? 3\n",
      "How Much Would You Like To Pay In?  100001\n"
     ]
    },
    {
     "name": "stdout",
     "output_type": "stream",
     "text": [
      "\n",
      "Your Balance is now Rs. 200002.0\n"
     ]
    },
    {
     "name": "stdin",
     "output_type": "stream",
     "text": [
      "Would You you like to go back?  y\n"
     ]
    },
    {
     "name": "stdout",
     "output_type": "stream",
     "text": [
      "Please Press 1 For Your Balance\n",
      "\n",
      "Please Press 2 To Make a Withdrawl\n",
      "\n",
      "Please Press 3 To Pay in\n",
      "\n",
      "Please Press 4 To Return Card\n",
      "\n"
     ]
    },
    {
     "name": "stdin",
     "output_type": "stream",
     "text": [
      "What Would you like to choose? 2\n",
      "How Much Would you like to withdraw?  for other enter 1:  200001\n"
     ]
    },
    {
     "name": "stdout",
     "output_type": "stream",
     "text": [
      "Please Press 1 For Your Balance\n",
      "\n",
      "Please Press 2 To Make a Withdrawl\n",
      "\n",
      "Please Press 3 To Pay in\n",
      "\n",
      "Please Press 4 To Return Card\n",
      "\n"
     ]
    },
    {
     "name": "stdin",
     "output_type": "stream",
     "text": [
      "What Would you like to choose? 1\n"
     ]
    },
    {
     "name": "stdout",
     "output_type": "stream",
     "text": [
      "Your Balance is Rs. 200002.0 \n",
      "\n"
     ]
    },
    {
     "name": "stdin",
     "output_type": "stream",
     "text": [
      "Would You you like to go back?  y\n"
     ]
    },
    {
     "name": "stdout",
     "output_type": "stream",
     "text": [
      "Please Press 1 For Your Balance\n",
      "\n",
      "Please Press 2 To Make a Withdrawl\n",
      "\n",
      "Please Press 3 To Pay in\n",
      "\n",
      "Please Press 4 To Return Card\n",
      "\n"
     ]
    },
    {
     "name": "stdin",
     "output_type": "stream",
     "text": [
      "What Would you like to choose? 1\n"
     ]
    },
    {
     "name": "stdout",
     "output_type": "stream",
     "text": [
      "Your Balance is Rs. 200002.0 \n",
      "\n"
     ]
    },
    {
     "name": "stdin",
     "output_type": "stream",
     "text": [
      "Would You you like to go back?  2\n"
     ]
    },
    {
     "name": "stdout",
     "output_type": "stream",
     "text": [
      "Please Press 1 For Your Balance\n",
      "\n",
      "Please Press 2 To Make a Withdrawl\n",
      "\n",
      "Please Press 3 To Pay in\n",
      "\n",
      "Please Press 4 To Return Card\n",
      "\n"
     ]
    },
    {
     "name": "stdin",
     "output_type": "stream",
     "text": [
      "What Would you like to choose? 2\n",
      "How Much Would you like to withdraw?  for other enter 1:  20001\n"
     ]
    },
    {
     "name": "stdout",
     "output_type": "stream",
     "text": [
      "\n",
      "Your Balance is now Rs. 180001.0\n"
     ]
    },
    {
     "name": "stdin",
     "output_type": "stream",
     "text": [
      "Would You you like to go back?  n\n"
     ]
    },
    {
     "name": "stdout",
     "output_type": "stream",
     "text": [
      "Thank You\n"
     ]
    },
    {
     "name": "stdin",
     "output_type": "stream",
     "text": [
      "Please Enter You 4 Digit Pin:  1234\n"
     ]
    },
    {
     "name": "stdout",
     "output_type": "stream",
     "text": [
      "Incorrect Password\n"
     ]
    },
    {
     "name": "stdin",
     "output_type": "stream",
     "text": [
      "Please Enter You 4 Digit Pin:  1234\n"
     ]
    },
    {
     "name": "stdout",
     "output_type": "stream",
     "text": [
      "Incorrect Password\n",
      "\n",
      "No more tries\n"
     ]
    }
   ],
   "source": [
    "print('Welcome to SBI ATM')\n",
    "restart=('Y')\n",
    "chances = 3\n",
    "balance = 100001\n",
    "while chances >= 0:\n",
    "    pin = int(input('Please Enter You 4 Digit Pin: '))\n",
    "    if pin == (9714):\n",
    "        print('You entered you pin Correctly\\n')\n",
    "        while restart not in ('n','NO','no','N'):\n",
    "            print('Please Press 1 For Your Balance\\n')\n",
    "            print('Please Press 2 To Make a Withdrawl\\n')\n",
    "            print('Please Press 3 To Pay in\\n')\n",
    "            print('Please Press 4 To Return Card\\n')\n",
    "            option = int(input('What Would you like to choose?'))\n",
    "            if option == 1:\n",
    "                print('Your Balance is Rs.',balance,'\\n')\n",
    "                restart = input('Would You you like to go back? ')\n",
    "                if restart in ('n','NO','no','N'):\n",
    "                    print('Thank You')\n",
    "                    break\n",
    "            elif option == 2:\n",
    "                option2 = ('y')\n",
    "                withdrawl = int(input('How Much Would you like to withdraw?  for other enter 1: '))\n",
    "                if withdrawl in list(range(1,100000)):\n",
    "                    balance = balance - withdrawl\n",
    "                    print ('\\nYour Balance is now Rs.',balance)\n",
    "                    restart = input('Would You you like to go back? ')\n",
    "                    if restart in ('n','NO','no','N'):\n",
    "                        print('Thank You')\n",
    "                        break\n",
    "                elif(withdrawl>balance):\n",
    "                    print(\"You have insufficient bank balance\")\n",
    "                    restart = input('Would You you like to go back? ')\n",
    "                    if restart in ('n','NO','no','N'):\n",
    "                        print('Thank You')\n",
    "                        break      \n",
    "                          \n",
    "                        \n",
    "                elif withdrawl == 1:\n",
    "                    withdrawl = float(input('Please Enter Desired amount:'))    \n",
    "\n",
    "            elif option == 3:\n",
    "                Pay_in = float(input('How Much Would You Like To Pay In? '))\n",
    "                balance = balance + Pay_in\n",
    "                print ('\\nYour Balance is now Rs.',balance)\n",
    "                restart = input('Would You you like to go back? ')\n",
    "                if restart in ('n','NO','no','N'):\n",
    "                    print('Thank You')\n",
    "                    break\n",
    "            elif option == 4:\n",
    "                print('Please wait whilst your card is Returned...\\n')\n",
    "                print('Thank you for you service')\n",
    "                break\n",
    "            else:\n",
    "                print('Please Enter a correct number. \\n')\n",
    "                restart = ('y')\n",
    "    elif pin != ('9714'):\n",
    "        print('Incorrect Password')\n",
    "        chances = chances - 1\n",
    "        if chances == 0:\n",
    "            print('\\nNo more tries')\n",
    "            break"
   ]
  },
  {
   "cell_type": "code",
   "execution_count": null,
   "id": "e33c7867-20e5-4db0-8a03-9a78482c8e95",
   "metadata": {},
   "outputs": [],
   "source": [
    "\n"
   ]
  },
  {
   "cell_type": "code",
   "execution_count": null,
   "id": "f06f85f5-ead9-473d-bf03-230434d35e79",
   "metadata": {},
   "outputs": [],
   "source": [
    "# 16. Build a program that checks if a given string is a palindrome or not."
   ]
  },
  {
   "cell_type": "code",
   "execution_count": 15,
   "id": "1269a4eb-0522-4302-87b1-e6f8e9c2a647",
   "metadata": {},
   "outputs": [
    {
     "name": "stdin",
     "output_type": "stream",
     "text": [
      "Enter the string: oppo\n"
     ]
    },
    {
     "name": "stdout",
     "output_type": "stream",
     "text": [
      " Yes, oppo is a pallindrome \n"
     ]
    }
   ],
   "source": [
    "string=input(\"Enter the string:\")\n",
    "if(string==string[::-1]):\n",
    "    print(f\" Yes, {string} is a pallindrome \")\n",
    "else:\n",
    "     print(f\" No, {string} is not a pallindrome \")\n",
    "        "
   ]
  },
  {
   "cell_type": "code",
   "execution_count": null,
   "id": "d931b4d3-df40-4a66-bb20-d1bcc33632f6",
   "metadata": {},
   "outputs": [],
   "source": []
  },
  {
   "cell_type": "code",
   "execution_count": null,
   "id": "966e9454-95c5-4f20-95d4-68e5ceb7aecb",
   "metadata": {},
   "outputs": [],
   "source": [
    "# 17. Write a program that calculates the average of a list of numbers, excluding the smallest and largest values."
   ]
  },
  {
   "cell_type": "code",
   "execution_count": 20,
   "id": "867d5041-c403-4b1f-9dba-0ece19504b19",
   "metadata": {},
   "outputs": [
    {
     "name": "stdout",
     "output_type": "stream",
     "text": [
      "Average of the list = 30.0\n"
     ]
    }
   ],
   "source": [
    "def Average(lst):\n",
    "    lst.sort()\n",
    "    return (sum(lst)-lst[0]-lst[len(lst)-1])/(len(lst) -2)\n",
    " \n",
    "lst = [10,20,30,1090,40]\n",
    "average = Average(lst)\n",
    " \n",
    "# Printing average of the list\n",
    "print(\"Average of the list =\", round(average, 2))"
   ]
  },
  {
   "cell_type": "code",
   "execution_count": null,
   "id": "aa41e959-edd6-4e53-a571-dd5336ce70bd",
   "metadata": {},
   "outputs": [],
   "source": [
    "\n"
   ]
  },
  {
   "cell_type": "code",
   "execution_count": null,
   "id": "bf164cd0-f1ba-4dc4-b83b-156a9d30a17d",
   "metadata": {},
   "outputs": [],
   "source": [
    "# 18. Develop a program that converts a given temperature from Celsius to Fahrenheit."
   ]
  },
  {
   "cell_type": "code",
   "execution_count": 17,
   "id": "f91eb567-5037-4610-ad5b-1a8cf331343a",
   "metadata": {},
   "outputs": [
    {
     "name": "stdin",
     "output_type": "stream",
     "text": [
      "Enter the value of temperature in Celcius: 37.8\n"
     ]
    },
    {
     "name": "stdout",
     "output_type": "stream",
     "text": [
      "The value of 37.8 degree celsius = 100.03999999999999 degree fahrenheit\n"
     ]
    }
   ],
   "source": [
    "c=float(input(\"Enter the value of temperature in Celcius:\"))\n",
    "f=(9/5)*c +32\n",
    "print(\"The value of \"+str(c)+\" degree celsius = \" +str(f)+ \" degree fahrenheit\")"
   ]
  },
  {
   "cell_type": "code",
   "execution_count": null,
   "id": "67da83b8-6913-4916-8963-fceef60296d0",
   "metadata": {},
   "outputs": [],
   "source": []
  },
  {
   "cell_type": "code",
   "execution_count": null,
   "id": "217ce62c-e6be-458f-969c-13f121be772a",
   "metadata": {},
   "outputs": [],
   "source": [
    "# 19. Create a program that simulates a basic calculator for addition, subtraction, multiplication, and division."
   ]
  },
  {
   "cell_type": "code",
   "execution_count": 12,
   "id": "524f1964-7242-4782-85ed-7d39cbd6a766",
   "metadata": {},
   "outputs": [
    {
     "name": "stdin",
     "output_type": "stream",
     "text": [
      "Enter the number 1: 4\n",
      "Enter the number 2: 2\n",
      "Enter the operation -\n"
     ]
    },
    {
     "name": "stdout",
     "output_type": "stream",
     "text": [
      "4-2=2\n"
     ]
    }
   ],
   "source": [
    "num1=int(input(\"Enter the number 1:\"))\n",
    "num2=int(input(\"Enter the number 2:\"))\n",
    "op=input(\"Enter the operation\")\n",
    "\n",
    "match op:\n",
    "    case '+':\n",
    "        print(f\"{num1}+{num2}={num1+num2}\")\n",
    "    case '-':\n",
    "        print(f\"{num1}-{num2}={num1-num2}\")\n",
    "    case '*':\n",
    "        print(f\"{num1} X {num2}={num1*num2}\")\n",
    "    case '/':\n",
    "        print(f\"{num1} /{num2}={num1/num2}\")"
   ]
  },
  {
   "cell_type": "code",
   "execution_count": null,
   "id": "b0e2c18c-0400-4404-83c4-905f23317d41",
   "metadata": {},
   "outputs": [],
   "source": []
  },
  {
   "cell_type": "code",
   "execution_count": null,
   "id": "1f30345b-1535-42a5-8a63-973f3ca7b140",
   "metadata": {},
   "outputs": [],
   "source": [
    "# 20. Write a program that determines the roots of a cubic equation using the Cardano formula."
   ]
  },
  {
   "cell_type": "code",
   "execution_count": 3,
   "id": "0d76a587-69ae-4aac-91ef-bc0267d6fcd5",
   "metadata": {},
   "outputs": [
    {
     "name": "stdout",
     "output_type": "stream",
     "text": [
      "ax^3+bx^2+cx+d=0\n",
      "Enter the coefficients a,b,c and constant d of cubic equation each separated by space:\n"
     ]
    },
    {
     "name": "stdin",
     "output_type": "stream",
     "text": [
      " 0 1 3 2\n"
     ]
    },
    {
     "name": "stdout",
     "output_type": "stream",
     "text": [
      "{(-2+0j), (-1+0j)}\n"
     ]
    }
   ],
   "source": [
    "from cmath import *\n",
    "\n",
    "solutions = set()\n",
    "\n",
    "\n",
    "def cbrt(polynomial):\n",
    "    solution = set()\n",
    "    root1 = polynomial ** (1 / 3)\n",
    "    root2 = (polynomial ** (1 / 3)) * (-1 / 2 + (sqrt(3) * 1j) / 2)\n",
    "    root3 = (polynomial ** (1 / 3)) * (-1 / 2 - (sqrt(3) * 1j) / 2)\n",
    "    solution.update({root1, root2, root3})\n",
    "    return solution\n",
    "\n",
    "\n",
    "print('ax^3+bx^2+cx+d=0')\n",
    "print(\"Enter the coefficients a,b,c and constant d of cubic equation each separated by space:\")\n",
    "a, b, c, d = map(complex, input().split())\n",
    "\n",
    "if a != 0:\n",
    "    p = (3 * a * c - b ** 2) / (3 * a ** 2)\n",
    "    q = (2 * b ** 3 - 9 * a * b * c + 27 * a ** 2 * d) / (27 * a ** 3)\n",
    "    alpha = cbrt(-q / 2 + sqrt((q / 2) ** 2 + (p / 3) ** 3))\n",
    "    beta = cbrt(-q / 2 - sqrt((q / 2) ** 2 + (p / 3) ** 3))\n",
    "    for i in alpha:\n",
    "        for j in beta:\n",
    "            if abs((i * j) + p / 3) <= 0.00001:\n",
    "                x = i + j - b / (3 * a)\n",
    "                solutions.add(x)\n",
    "\n",
    "elif b != 0:\n",
    "    D = c ** 2 - 4 * b * d\n",
    "    solutions.add((-c - sqrt(D)) / 2 * b)\n",
    "    solutions.add((-c + sqrt(D)) / 2 * b)\n",
    "\n",
    "elif c != 0:\n",
    "    solutions.add(-d / c)\n",
    "\n",
    "elif d == 0:\n",
    "    solutions.add(\"True\")\n",
    "\n",
    "else:\n",
    "    solutions.add(\"False\")\n",
    "\n",
    "print(solutions)\n",
    "\n"
   ]
  },
  {
   "cell_type": "code",
   "execution_count": null,
   "id": "99cd8403-d719-4bad-afe3-d74b5e946601",
   "metadata": {},
   "outputs": [],
   "source": []
  },
  {
   "cell_type": "code",
   "execution_count": null,
   "id": "a2208be2-4ab3-4b84-856b-6d113afeb1a3",
   "metadata": {},
   "outputs": [],
   "source": []
  },
  {
   "cell_type": "code",
   "execution_count": null,
   "id": "6752e256-a819-4f78-9d30-e23bc79fa393",
   "metadata": {},
   "outputs": [],
   "source": []
  },
  {
   "cell_type": "code",
   "execution_count": null,
   "id": "0b90f45f-f440-4a91-854b-e5ba2c0a26cd",
   "metadata": {},
   "outputs": [],
   "source": [
    "# 21. Create a program that calculates the income tax based on the user's income and tax brackets."
   ]
  },
  {
   "cell_type": "code",
   "execution_count": 28,
   "id": "95dc47ca-a8ac-496e-ab91-d593996080bf",
   "metadata": {},
   "outputs": [
    {
     "name": "stdin",
     "output_type": "stream",
     "text": [
      "What's your\tannual income? :  700000\n"
     ]
    },
    {
     "name": "stdout",
     "output_type": "stream",
     "text": [
      "Total tax applicable at \t ₹700000.0 is ₹32500.0\n"
     ]
    }
   ],
   "source": [
    "def calculate(amount, percent):\n",
    "\treturn (amount * percent) / 100\n",
    "\n",
    "def calculate_income_tax(total_income:\n",
    "\t\t\t\t\t\tfloat) -> float:\n",
    "\n",
    "\tif total_income <= 250000:\n",
    "\t\treturn 0\n",
    "\telif total_income <= 500000:\n",
    "\t\treturn calculate(total_income -\n",
    "\t\t\t\t\t\t250000, 5)\n",
    "\telif total_income <= 750000:\n",
    "\t\treturn calculate(total_income -\n",
    "\t\t\t\t\t\t500000, 10) + 12500\n",
    "\telif total_income <= 1000000:\n",
    "\t\treturn calculate(total_income -\n",
    "\t\t\t\t\t\t750000, 15) + 37500\n",
    "\telif total_income <= 1250000:\n",
    "\t\treturn calculate(total_income -\n",
    "\t\t\t\t\t\t1000000, 20) + 75000\n",
    "\telif total_income <= 1500000:\n",
    "\t\treturn calculate(total_income -\n",
    "\t\t\t\t\t\t1250000, 25) + 125000\n",
    "\telse:\n",
    "\t\treturn calculate(total_income -\n",
    "\t\t\t\t\t\t1500000, 30) + 187500\n",
    "\n",
    "\n",
    "if __name__ == '__main__':\n",
    "\ttotal_income = float(input(\"What's your\\tannual income? : \"))\n",
    "\ttax = calculate_income_tax(total_income)\n",
    "\tprint(f\"Total tax applicable at \\t ₹{total_income} is ₹{tax}\")\n"
   ]
  },
  {
   "cell_type": "code",
   "execution_count": null,
   "id": "0b50ecac-71f3-4ec0-81dd-aee683179767",
   "metadata": {},
   "outputs": [],
   "source": []
  },
  {
   "cell_type": "code",
   "execution_count": null,
   "id": "7506812f-0c8b-4364-b4c1-2d3e75e25778",
   "metadata": {},
   "outputs": [],
   "source": []
  },
  {
   "cell_type": "code",
   "execution_count": null,
   "id": "7aa7e2f5-b852-4ab0-889e-76a5d974cca8",
   "metadata": {},
   "outputs": [],
   "source": []
  },
  {
   "cell_type": "code",
   "execution_count": null,
   "id": "8dac4084-583d-48b7-9c15-897f5685119a",
   "metadata": {},
   "outputs": [],
   "source": [
    "# 22. Write a program that simulates a rock-paper-scissors game against the computer."
   ]
  },
  {
   "cell_type": "code",
   "execution_count": 18,
   "id": "ec901f48-1b75-4a97-b5e0-496518c84529",
   "metadata": {},
   "outputs": [
    {
     "name": "stdin",
     "output_type": "stream",
     "text": [
      "Enter a choice out of  [rock, paper, scissors]:  paper\n"
     ]
    },
    {
     "name": "stdout",
     "output_type": "stream",
     "text": [
      "Congratulations!  You entered right guess\n",
      "You chose paper, computer chose paper\n"
     ]
    }
   ],
   "source": [
    "import random\n",
    "your_choice= input(\"Enter a choice out of  [rock, paper, scissors]: \")\n",
    "possible_choices= [\"rock\", \"paper\", \"scissors\"]\n",
    "computer_choice= random.choice(possible_choices)\n",
    "if(your_choice==computer_choice):\n",
    "    print(\"Congratulations!  You entered right guess\")\n",
    "else:\n",
    "     print(\"Oops!  Wrong guess.\")\n",
    "print(f\"You chose {your_choice}, computer chose {computer_choice}\")"
   ]
  },
  {
   "cell_type": "code",
   "execution_count": null,
   "id": "33428180-b942-4034-8ccc-790c17144666",
   "metadata": {},
   "outputs": [],
   "source": []
  },
  {
   "cell_type": "code",
   "execution_count": null,
   "id": "6f4c05d2-98a7-4bdc-a281-4e661eb3f58d",
   "metadata": {},
   "outputs": [],
   "source": [
    "# 23. Develop a program that generates a random password based on user preferences (length, complexity)."
   ]
  },
  {
   "cell_type": "code",
   "execution_count": 30,
   "id": "a462ccdc-91b5-4985-8d96-27005e63a5f5",
   "metadata": {},
   "outputs": [
    {
     "name": "stdin",
     "output_type": "stream",
     "text": [
      "Enter password length:  8\n"
     ]
    },
    {
     "name": "stdout",
     "output_type": "stream",
     "text": [
      "Choose character set for password from these :\n",
      "         1. Digits\n",
      "         2. Letters\n",
      "         3. Special characters\n",
      "         4. Exit\n"
     ]
    },
    {
     "name": "stdin",
     "output_type": "stream",
     "text": [
      "Pick a number  2\n",
      "Pick a number  1\n",
      "Pick a number  3\n",
      "Pick a number  4\n"
     ]
    },
    {
     "name": "stdout",
     "output_type": "stream",
     "text": [
      "The random password is m]LfW!#T\n"
     ]
    }
   ],
   "source": [
    "import string\n",
    "import random\n",
    " \n",
    "# Getting password length\n",
    "length = int(input(\"Enter password length: \"))\n",
    " \n",
    "print('''Choose character set for password from these :\n",
    "         1. Digits\n",
    "         2. Letters\n",
    "         3. Special characters\n",
    "         4. Exit''')\n",
    " \n",
    "characterList = \"\"\n",
    " \n",
    "# Getting character set for password\n",
    "while(True):\n",
    "    choice = int(input(\"Pick a number \"))\n",
    "    if(choice == 1):\n",
    "         \n",
    "        # Adding letters to possible characters\n",
    "        characterList += string.ascii_letters\n",
    "    elif(choice == 2):\n",
    "         \n",
    "        # Adding digits to possible characters\n",
    "        characterList += string.digits\n",
    "    elif(choice == 3):\n",
    "         \n",
    "        # Adding special characters to possible\n",
    "        # characters\n",
    "        characterList += string.punctuation\n",
    "    elif(choice == 4):\n",
    "        break\n",
    "    else:\n",
    "        print(\"Please pick a valid option!\")\n",
    " \n",
    "    password = []\n",
    " \n",
    "    for i in range(length):\n",
    "   \n",
    "    # Picking a random character from our\n",
    "    # character list\n",
    "       randomchar = random.choice(characterList)\n",
    "     \n",
    "    # appending a random character to password\n",
    "       password.append(randomchar)\n",
    " \n",
    " # printing password as a string\n",
    "print(\"The random password is \" + \"\".join(password))\n"
   ]
  },
  {
   "cell_type": "code",
   "execution_count": null,
   "id": "7c396994-67ff-483e-8bf2-ce6621a6aba3",
   "metadata": {},
   "outputs": [],
   "source": [
    "# 24. Create a program that implements a simple text-based adventure game with branching scenarios."
   ]
  },
  {
   "cell_type": "code",
   "execution_count": 103,
   "id": "4c10ba45-e1e6-466f-a949-2e0376d0a51c",
   "metadata": {},
   "outputs": [
    {
     "name": "stdout",
     "output_type": "stream",
     "text": [
      "\n",
      "WELCOME! LET'S START THE ADVENTURE\n",
      "\n",
      "You are standing outside of your house and you see a man running towards you and asking for urgent shelter.\n",
      "\n",
      "Will you provide shelter to him. (Yes / No)\n",
      "\n"
     ]
    },
    {
     "name": "stdin",
     "output_type": "stream",
     "text": [
      ">> n\n"
     ]
    },
    {
     "name": "stdout",
     "output_type": "stream",
     "text": [
      "\n",
      "Now, he is trying to kill you. Will, you knock him down? (Yes / No)\n",
      "\n"
     ]
    },
    {
     "name": "stdin",
     "output_type": "stream",
     "text": [
      ">> y\n"
     ]
    },
    {
     "name": "stdout",
     "output_type": "stream",
     "text": [
      "\n",
      "Congrats! He was a thief & You helped the police to catch him with your bravery.\n"
     ]
    }
   ],
   "source": [
    "answer_yes = [\"Yes\", \"Y\", \"yes\", \"y\"]\n",
    "answer_no = [\"No\", \"N\", \"no\", \"n\"]\n",
    "\n",
    "print(\"\"\"\n",
    "WELCOME! LET'S START THE ADVENTURE\n",
    "\n",
    "You are standing outside of your house and you see a man running towards you and asking for urgent shelter.\n",
    "\n",
    "Will you provide shelter to him. (Yes / No)\n",
    "\"\"\")\n",
    "\n",
    "ans1 = input(\">>\")\n",
    "\n",
    "if ans1 in answer_yes:\n",
    "    print(\"\\nAfter 2 minutes, the Police came to your house, and ask you that whether the thief is in your house or not. Will you say (Yes / No)\\n\")\n",
    "\n",
    "    ans2 = input(\">>\")\n",
    "\n",
    "    if ans2 in answer_yes:\n",
    "        print(\"\\nYou are an honest person. He was a thief & You won the Game\")\n",
    "\n",
    "    elif ans2 in answer_no:\n",
    "        print(\"\\nYou helped a thief. Now, go to Jail. GAME OVER\")\n",
    "\n",
    "    else:\n",
    "        print(\"\\nYou typed the wrong input. GOODBYE!\")\n",
    "\n",
    "elif ans1 in answer_no:\n",
    "    print(\"\\nNow, he is trying to kill you. Will, you knock him down? (Yes / No)\\n\")\n",
    "\n",
    "    ans3 = input(\">>\")\n",
    "\n",
    "    if ans3 in answer_yes:\n",
    "        print(\"\\nCongrats! He was a thief & You helped the police to catch him with your bravery.\")\n",
    "\n",
    "    elif ans3 in answer_no:\n",
    "        print(\"\\nSorry! You are dead. He was a thief & He killed you. GAME OVER\")\n",
    "\n",
    "    else:\n",
    "        print(\"\\nYou typed the wrong input. GOODBYE!\")\n",
    "\n",
    "else:\n",
    "    print(\"\\nYou typed the wrong input. GOODBYE!\")"
   ]
  },
  {
   "cell_type": "code",
   "execution_count": null,
   "id": "de49af96-c233-435b-a1c5-1f7f462dace9",
   "metadata": {},
   "outputs": [],
   "source": [
    "# 25. Build a program that solves a linear equation  for x, considering different cases."
   ]
  },
  {
   "cell_type": "code",
   "execution_count": 107,
   "id": "242ee357-d895-4a0e-9944-889a6bdfca9f",
   "metadata": {},
   "outputs": [
    {
     "name": "stdout",
     "output_type": "stream",
     "text": [
      "For linear equation of type ax+by=c\n",
      "\n",
      "Equation 1:\n",
      "Eq(x + y, 1)\n",
      "Equation 2\n",
      "Eq(x - y, 1)\n",
      "Values of 2 unknown variable are as follows:\n",
      "{x: 1, y: 0}\n",
      "\n",
      "For linear equation of type ax+by+cz=d\n",
      "\n",
      "Equation 1:\n",
      "Eq(x + y + z, 1)\n",
      "Equation 2\n",
      "Eq(x - y + 2*z, 1)\n",
      "Equation 3\n",
      "Values of 3 unknown variable are as follows:\n",
      "{x: 0, y: 1/3, z: 2/3}\n"
     ]
    }
   ],
   "source": [
    "print(\"For linear equation of type ax+by=c\\n\")\n",
    "\n",
    "# importing library sympy\n",
    "from sympy import symbols, Eq, solve\n",
    "\n",
    "# defining symbols used in equations\n",
    "# or unknown variables\n",
    "x, y = symbols('x,y')\n",
    "\n",
    "# defining equations\n",
    "eq1 = Eq((x+y), 1)\n",
    "print(\"Equation 1:\")\n",
    "print(eq1)\n",
    "eq2 = Eq((x-y), 1)\n",
    "print(\"Equation 2\")\n",
    "print(eq2)\n",
    "\n",
    "# solving the equation\n",
    "print(\"Values of 2 unknown variable are as follows:\")\n",
    "\n",
    "print(solve((eq1, eq2), (x, y)))\n",
    "\n",
    "\n",
    "print(\"\\nFor linear equation of type ax+by+cz=d\\n\")\n",
    "\n",
    "# importing library sympy\n",
    "from sympy import symbols, Eq, solve\n",
    "\n",
    "# defining symbols used in equations\n",
    "# or unknown variables\n",
    "x, y, z = symbols('x,y,z')\n",
    "\n",
    "# defining equations\n",
    "eq1 = Eq((x+y+z), 1)\n",
    "print(\"Equation 1:\")\n",
    "print(eq1)\n",
    "\n",
    "eq2 = Eq((x-y+2*z), 1)\n",
    "print(\"Equation 2\")\n",
    "print(eq2)\n",
    "\n",
    "eq3 = Eq((2*x-y+2*z), 1)\n",
    "print(\"Equation 3\")\n",
    "\n",
    "# solving the equation and printing the\n",
    "# value of unknown variables\n",
    "print(\"Values of 3 unknown variable are as follows:\")\n",
    "print(solve((eq1, eq2, eq3), (x, y, z)))\n"
   ]
  },
  {
   "cell_type": "code",
   "execution_count": 1,
   "id": "f15e4da0-375d-423d-8ef3-f2a70f9fa34f",
   "metadata": {},
   "outputs": [],
   "source": [
    "# 26. Write a program that simulates a basic quiz game with multiple-choice questions and scoring."
   ]
  },
  {
   "cell_type": "code",
   "execution_count": 39,
   "id": "46ad2e28-555b-41e9-976d-442530fc34b2",
   "metadata": {},
   "outputs": [
    {
     "name": "stdout",
     "output_type": "stream",
     "text": [
      "\n",
      "Question 1:\n",
      "Which is national bird of India?\n",
      "  a) Crow\n",
      "  b) Eagle\n",
      "  c) Peacock\n",
      "  d) Swan\n"
     ]
    },
    {
     "name": "stdin",
     "output_type": "stream",
     "text": [
      "\n",
      "Choice?  c\n"
     ]
    },
    {
     "name": "stdout",
     "output_type": "stream",
     "text": [
      "Correct! \n",
      "\n",
      "Question 2:\n",
      "Which is most populated country in the world presently in 2023??\n",
      "  a) China\n",
      "  b) India\n",
      "  c) UK\n",
      "  d) USA\n"
     ]
    },
    {
     "name": "stdin",
     "output_type": "stream",
     "text": [
      "\n",
      "Choice?  b\n"
     ]
    },
    {
     "name": "stdout",
     "output_type": "stream",
     "text": [
      "Correct! \n",
      "\n",
      "You got 2 correct out of 2 questions\n"
     ]
    }
   ],
   "source": [
    "from string import ascii_lowercase\n",
    "\n",
    "QUESTIONS = {\n",
    "    \"Which is national bird of India\": [\n",
    "        \"Peacock\", \"Crow\", \"Eagle\", \"Swan\",\n",
    "    ],\n",
    "    \"Which is most populated country in the world presently in 2023?\": [\n",
    "        \"India\",\n",
    "        \"USA\",\n",
    "        \"UK\",\n",
    "        \"China\",\n",
    "    ],\n",
    "}\n",
    "\n",
    "num_correct = 0\n",
    "for num, (question, alternatives) in enumerate(QUESTIONS.items(), start=1):\n",
    "    print(f\"\\nQuestion {num}:\")\n",
    "    print(f\"{question}?\")\n",
    "    correct_answer = alternatives[0]\n",
    "    labeled_alternatives = dict(zip(ascii_lowercase, sorted(alternatives)))\n",
    "    for label, alternative in labeled_alternatives.items():\n",
    "        print(f\"  {label}) {alternative}\")\n",
    "\n",
    "    answer_label = input(\"\\nChoice? \")\n",
    "    answer = labeled_alternatives.get(answer_label)\n",
    "    if answer == correct_answer:\n",
    "        num_correct += 1\n",
    "        print(\"Correct! \")\n",
    "    else:\n",
    "        print(f\"The answer is {correct_answer!r}, not {answer!r}\")\n",
    "\n",
    "print(f\"\\nYou got {num_correct} correct out of {num} questions\")"
   ]
  },
  {
   "cell_type": "code",
   "execution_count": 3,
   "id": "0c160336-5e8d-48b5-8fda-0fc84603712b",
   "metadata": {},
   "outputs": [],
   "source": [
    "# 27. Develop a program that determines whether a given year is a prime number or not."
   ]
  },
  {
   "cell_type": "code",
   "execution_count": 5,
   "id": "82580b21-1ddb-4938-b242-cd1b209f1e2b",
   "metadata": {},
   "outputs": [
    {
     "name": "stdout",
     "output_type": "stream",
     "text": [
      "17 is a prime number\n"
     ]
    }
   ],
   "source": [
    "num = 17\n",
    "# If given number is greater than 1\n",
    "if num > 1:\n",
    "\t# Iterate from 2 to n / 2\n",
    "\tfor i in range(2, int(num/2)+1):\n",
    "\t\t# If num is divisible by any number between\n",
    "\t\t# 2 and n / 2, it is not prime\n",
    "\t\tif (num % i) == 0:\n",
    "\t\t\tprint(num, \"is not a prime number\")\n",
    "\t\t\tbreak\n",
    "\telse:\n",
    "\t\tprint(num, \"is a prime number\")\n",
    "else:\n",
    "\tprint(num, \"is not a prime number\")\n"
   ]
  },
  {
   "cell_type": "code",
   "execution_count": null,
   "id": "a7e60587-1e27-4495-b0e8-a99d772c93c1",
   "metadata": {},
   "outputs": [],
   "source": []
  },
  {
   "cell_type": "code",
   "execution_count": null,
   "id": "bb7eea78-c004-4cbf-a66e-209d64392f26",
   "metadata": {},
   "outputs": [],
   "source": [
    "# 28. Create a program that sorts three numbers in ascending order using conditional statements."
   ]
  },
  {
   "cell_type": "code",
   "execution_count": 101,
   "id": "bf276ed2-1552-4156-b43f-ca60a28906a8",
   "metadata": {},
   "outputs": [
    {
     "name": "stdin",
     "output_type": "stream",
     "text": [
      "Enter a:  1\n",
      "Enter b:  45\n",
      "Enter c:  2\n"
     ]
    },
    {
     "name": "stdout",
     "output_type": "stream",
     "text": [
      "1.0 < 2.0 < 45.0\n"
     ]
    }
   ],
   "source": [
    "a = float(input(\"Enter a: \"))\n",
    "b = float(input(\"Enter b: \"))\n",
    "c = float(input(\"Enter c: \"))\n",
    "if a > c:\n",
    "    a = a + c\n",
    "    c = a - c\n",
    "    a = a - c  \n",
    "if a > b:\n",
    "    a = a + b\n",
    "    b = a - b\n",
    "    a = a - b\n",
    "if b > c:\n",
    "    b = b + c\n",
    "    c = b - c\n",
    "    b = b - c\n",
    "print (a, \"<\", b, \"<\", c)"
   ]
  },
  {
   "cell_type": "code",
   "execution_count": null,
   "id": "c83d8e4c-1e92-493a-8ed4-b4ae64cd7d9f",
   "metadata": {},
   "outputs": [],
   "source": [
    "# 29. Build a program that determines the roots of a quartic equation using numerical methods."
   ]
  },
  {
   "cell_type": "code",
   "execution_count": 100,
   "id": "344c8ecb-eaf0-41ab-a1e4-9886a2949bbc",
   "metadata": {},
   "outputs": [
    {
     "name": "stdout",
     "output_type": "stream",
     "text": [
      "Quadratic equation is ax^2 + bx+ c=0 \n"
     ]
    },
    {
     "name": "stdin",
     "output_type": "stream",
     "text": [
      "Enter the value of a which is coefficient of x^2 : 1\n",
      "Enter the value of b which is coefficient of x: 3\n",
      "Enter the value of c constant term: 2\n"
     ]
    },
    {
     "name": "stdout",
     "output_type": "stream",
     "text": [
      "Roots  of Quadratic equation 1x^2 +3x +2 = 0 are -1.0 and -2.0\n"
     ]
    }
   ],
   "source": [
    "print(\"Quadratic equation is ax^2 + bx+ c=0 \")\n",
    "a=int(input(\"Enter the value of a which is coefficient of x^2 :\"))\n",
    "b=int(input(\"Enter the value of b which is coefficient of x:\"))\n",
    "c=int(input(\"Enter the value of c constant term:\"))\n",
    "x1=((-b)+((b)**2 -4*a*c)**0.5)/(2*a)\n",
    "x2=((-b)-((b)**2 -4*a*c)**0.5)/(2*a)\n",
    "print(f\"Roots  of Quadratic equation {a}x^2 +{b}x +{c} = 0 are {x1} and {x2}\")"
   ]
  },
  {
   "cell_type": "code",
   "execution_count": null,
   "id": "edbc7f1f-cff0-490e-8c4f-402daf6ae682",
   "metadata": {},
   "outputs": [],
   "source": []
  },
  {
   "cell_type": "code",
   "execution_count": null,
   "id": "e455981f-b574-4931-923f-63e50ede633d",
   "metadata": {},
   "outputs": [],
   "source": [
    "# 30. Write a program that calculates the BMI (Body Mass Index) and provides health recommendations based on the user's input."
   ]
  },
  {
   "cell_type": "code",
   "execution_count": 99,
   "id": "9c861c13-67d1-44a9-86ec-ed67dbae1ffc",
   "metadata": {},
   "outputs": [
    {
     "name": "stdin",
     "output_type": "stream",
     "text": [
      "Enter the height in metres :  1.92\n",
      "Enter the weight in kgs  : 79\n"
     ]
    },
    {
     "name": "stdout",
     "output_type": "stream",
     "text": [
      "Your BMI is 21.43012152777778\n",
      "You are normal\n",
      "You are healthy and be consistent in maintaing good health that you possess now \n"
     ]
    }
   ],
   "source": [
    "h=float(input(\"Enter the height in metres : \"))\n",
    "w=float(input(\"Enter the weight in kgs  :\"))\n",
    "bmi=w/(h**2)\n",
    "print(\"Your BMI is\",bmi)\n",
    "if(bmi<18.5):\n",
    "    print(\"You are underweight\")\n",
    "    print(\"You must take care of health and eat have sufficient nutrients intake in your diet \")\n",
    "    \n",
    "elif(bmi>=18.5 and bmi<25):\n",
    "    print(\"You are normal\")\n",
    "    print(\"You are healthy and be consistent in maintaing good health that you possess now \") \n",
    "    \n",
    "elif(bmi>=25 and bmi<30):\n",
    "    print(\"You are overweight\")\n",
    "    print(\"Reduce overeating habit.Exercise daily and burn calories on daily basis.\") \n",
    "    print(\"Consult doctor also for gaining better health and become fit\")\n",
    "    \n",
    "elif(bmi>=30):\n",
    "    print(\"You are obese\")\n",
    "    print(\"Immediately consult a doctor for treatement and getting health advice otherwise you may suffer dangerous consequences of neglecting health\")\n",
    "    "
   ]
  },
  {
   "cell_type": "code",
   "execution_count": null,
   "id": "26e94741-eba2-430b-aca4-791edd308b3d",
   "metadata": {},
   "outputs": [],
   "source": [
    "# 31. Create a program that validates a password based on complexity rules (length, characters, etc.)."
   ]
  },
  {
   "cell_type": "code",
   "execution_count": 59,
   "id": "d168e9a4-8210-46db-9db4-911e37804a9c",
   "metadata": {},
   "outputs": [
    {
     "name": "stdout",
     "output_type": "stream",
     "text": [
      "Valid Password\n"
     ]
    }
   ],
   "source": [
    "# Python program to check validation of password\n",
    "# Module of regular expression is used with search()\n",
    "import re\n",
    "password = \"R@m@_f0rtu9e$\"\n",
    "flag = 0\n",
    "while True:\n",
    "\tif (len(password)<=8):\n",
    "\t\tflag = -1\n",
    "\t\tbreak\n",
    "\telif not re.search(\"[a-z]\", password):\n",
    "\t\tflag = -1\n",
    "\t\tbreak\n",
    "\telif not re.search(\"[A-Z]\", password):\n",
    "\t\tflag = -1\n",
    "\t\tbreak\n",
    "\telif not re.search(\"[0-9]\", password):\n",
    "\t\tflag = -1\n",
    "\t\tbreak\n",
    "\telif not re.search(\"[_@$]\" , password):\n",
    "\t\tflag = -1\n",
    "\t\tbreak\n",
    "\telif re.search(\"\\s\" , password):\n",
    "\t\tflag = -1\n",
    "\t\tbreak\n",
    "\telse:\n",
    "\t\tflag = 0\n",
    "\t\tprint(\"Valid Password\")\n",
    "\t\tbreak\n",
    "\n",
    "if flag == -1:\n",
    "\tprint(\"Not a Valid Password \")\n"
   ]
  },
  {
   "cell_type": "code",
   "execution_count": null,
   "id": "0acc73f1-2ca5-4646-88d2-fda301afb6a5",
   "metadata": {},
   "outputs": [],
   "source": []
  },
  {
   "cell_type": "code",
   "execution_count": null,
   "id": "318f89c1-a4e7-444f-8071-b9606006aff4",
   "metadata": {},
   "outputs": [],
   "source": [
    "# 32. Develop a program that performs matrix addition and subtraction based on user input."
   ]
  },
  {
   "cell_type": "code",
   "execution_count": 2,
   "id": "77d59dae-0258-4a3b-bc5d-e115e3e13c6d",
   "metadata": {},
   "outputs": [
    {
     "name": "stdin",
     "output_type": "stream",
     "text": [
      "Enter the value of a element of matrix A : 1\n",
      "Enter the value of b element of matrix A: 2\n",
      "Enter the value of c element of matrix A: 3\n",
      "Enter the value of d element of matrix A : 4\n",
      "Enter the value of e element of matrix B : 5\n",
      "Enter the value of f element of matrix B : 6\n",
      "Enter the value of g element of matrix B : 7\n",
      "Enter the value of h element of matrix B : 8\n"
     ]
    },
    {
     "name": "stdout",
     "output_type": "stream",
     "text": [
      "Printing elements of first matrix\n",
      "[[1 2]\n",
      " [3 4]]\n",
      "Printing elements of second matrix\n",
      "[[5 6]\n",
      " [7 8]]\n",
      "Addition of two matrix\n",
      "[[ 6  8]\n",
      " [10 12]]\n",
      "Subtraction of two matrix\n",
      "[[-4 -4]\n",
      " [-4 -4]]\n"
     ]
    }
   ],
   "source": [
    "import numpy as np\n",
    " \n",
    "# importing numpy as np\n",
    "\n",
    "a=int(input(\"Enter the value of a element of matrix A :\"))\n",
    "b=int(input(\"Enter the value of b element of matrix A:\"))\n",
    "c=int(input(\"Enter the value of c element of matrix A:\"))\n",
    "d=int(input(\"Enter the value of d element of matrix A :\"))\n",
    "e=int(input(\"Enter the value of e element of matrix B :\"))\n",
    "f=int(input(\"Enter the value of f element of matrix B :\"))\n",
    "g=int(input(\"Enter the value of g element of matrix B :\"))\n",
    "h=int(input(\"Enter the value of h element of matrix B :\"))\n",
    "\n",
    "# creating first matrix\n",
    "A = np.array([[a, b], [c, d]])\n",
    " \n",
    "# creating second matrix\n",
    "B = np.array([[e, f], [g, h]])\n",
    " \n",
    "print(\"Printing elements of first matrix\")\n",
    "print(A)\n",
    "print(\"Printing elements of second matrix\")\n",
    "print(B)\n",
    " \n",
    "# adding two matrix\n",
    "print(\"Addition of two matrix\")\n",
    "print(np.add(A, B)) \n",
    "\n",
    " \n",
    "# subtracting two matrix\n",
    "print(\"Subtraction of two matrix\")\n",
    "print(np.subtract(A, B))"
   ]
  },
  {
   "cell_type": "code",
   "execution_count": null,
   "id": "b49ca18e-774e-43bf-a889-953bc62e7ce4",
   "metadata": {},
   "outputs": [],
   "source": []
  },
  {
   "cell_type": "code",
   "execution_count": null,
   "id": "74333794-3ee8-4bd4-83a6-48373130140c",
   "metadata": {},
   "outputs": [],
   "source": [
    "# 33. Write a program that calculates the greatest common divisor (GCD) of two numbers using the Euclidean algorithm."
   ]
  },
  {
   "cell_type": "code",
   "execution_count": 6,
   "id": "dcb2ebce-e555-4635-a309-d9861406363e",
   "metadata": {},
   "outputs": [
    {
     "name": "stdout",
     "output_type": "stream",
     "text": [
      "The gcd of 60 and 48 is : 12\n"
     ]
    }
   ],
   "source": [
    "import math\n",
    " \n",
    "# prints 12\n",
    "print(\"The gcd of 60 and 48 is : \", end=\"\")\n",
    "print(math.gcd(60, 48))"
   ]
  },
  {
   "cell_type": "code",
   "execution_count": null,
   "id": "4efd0311-c950-445f-b0ab-60b044af4eee",
   "metadata": {},
   "outputs": [],
   "source": []
  },
  {
   "cell_type": "code",
   "execution_count": null,
   "id": "1491e4a6-eb87-4195-89d3-a42ebc669d5d",
   "metadata": {},
   "outputs": [],
   "source": [
    "# 34. Build a program that performs matrix multiplication using nested loops and conditional statements."
   ]
  },
  {
   "cell_type": "code",
   "execution_count": 76,
   "id": "00658c05-20b8-4017-bebd-d8bcc6755e20",
   "metadata": {},
   "outputs": [
    {
     "name": "stdout",
     "output_type": "stream",
     "text": [
      "[114, 160, 60, 27]\n",
      "[74, 97, 73, 14]\n",
      "[119, 157, 112, 23]\n"
     ]
    }
   ],
   "source": [
    "# Program to multiply two matrices using nested loops\n",
    "\n",
    "# 3x3 matrix\n",
    "X = [[12,7,3],\n",
    "     [4 ,5,6],\n",
    "     [7 ,8,9]]\n",
    "# 3x4 matrix\n",
    "Y = [[5,8,1,2],\n",
    "     [6,7,3,0],\n",
    "     [4,5,9,1]]\n",
    "# result is 3x4\n",
    "result = [[0,0,0,0],\n",
    "          [0,0,0,0],\n",
    "          [0,0,0,0]]\n",
    "\n",
    "# iterate through rows of X\n",
    "for i in range(len(X)):\n",
    "   # iterate through columns of Y\n",
    "   for j in range(len(Y[0])):\n",
    "       # iterate through rows of Y\n",
    "       for k in range(len(Y)):\n",
    "        result[i][j] += X[i][k] * Y[k][j]\n",
    "\n",
    "for r in result:\n",
    "    print(r)\n"
   ]
  },
  {
   "cell_type": "code",
   "execution_count": 10,
   "id": "a0191512-d165-4111-bb41-bf4f393189cc",
   "metadata": {},
   "outputs": [],
   "source": [
    "# 35. Create a program that simulates a basic text-based tic-tac-toe game against the computer."
   ]
  },
  {
   "cell_type": "code",
   "execution_count": null,
   "id": "d55d3c1f-fd32-4798-847f-ac0860b72e9d",
   "metadata": {},
   "outputs": [
    {
     "name": "stdout",
     "output_type": "stream",
     "text": [
      "[[0 0 0]\n",
      " [0 0 0]\n",
      " [0 0 0]]\n",
      "Board after 1 move\n",
      "[[0 0 0]\n",
      " [0 0 0]\n",
      " [0 0 1]]\n",
      "Board after 2 move\n",
      "[[0 0 0]\n",
      " [0 2 0]\n",
      " [0 0 1]]\n",
      "Board after 3 move\n",
      "[[0 0 0]\n",
      " [0 2 1]\n",
      " [0 0 1]]\n",
      "Board after 4 move\n",
      "[[0 0 2]\n",
      " [0 2 1]\n",
      " [0 0 1]]\n",
      "Board after 5 move\n",
      "[[0 0 2]\n",
      " [0 2 1]\n",
      " [1 0 1]]\n",
      "Board after 6 move\n",
      "[[2 0 2]\n",
      " [0 2 1]\n",
      " [1 0 1]]\n",
      "Board after 7 move\n",
      "[[2 0 2]\n",
      " [1 2 1]\n",
      " [1 0 1]]\n",
      "Board after 8 move\n",
      "[[2 2 2]\n",
      " [1 2 1]\n",
      " [1 0 1]]\n",
      "Winner is: 2\n"
     ]
    }
   ],
   "source": [
    "# Tic-Tac-Toe Program using\n",
    "# random number in Python\n",
    "\n",
    "# importing all necessary libraries\n",
    "import numpy as np\n",
    "import random\n",
    "from time import sleep\n",
    "\n",
    "# Creates an empty board\n",
    "\n",
    "\n",
    "def create_board():\n",
    "\treturn(np.array([[0, 0, 0],\n",
    "\t\t\t\t\t[0, 0, 0],\n",
    "\t\t\t\t\t[0, 0, 0]]))\n",
    "\n",
    "# Check for empty places on board\n",
    "\n",
    "\n",
    "def possibilities(board):\n",
    "\tl = []\n",
    "\n",
    "\tfor i in range(len(board)):\n",
    "\t\tfor j in range(len(board)):\n",
    "\n",
    "\t\t\tif board[i][j] == 0:\n",
    "\t\t\t\tl.append((i, j))\n",
    "\treturn(l)\n",
    "\n",
    "# Select a random place for the player\n",
    "\n",
    "\n",
    "def random_place(board, player):\n",
    "\tselection = possibilities(board)\n",
    "\tcurrent_loc = random.choice(selection)\n",
    "\tboard[current_loc] = player\n",
    "\treturn(board)\n",
    "\n",
    "# Checks whether the player has three\n",
    "# of their marks in a horizontal row\n",
    "\n",
    "\n",
    "def row_win(board, player):\n",
    "\tfor x in range(len(board)):\n",
    "\t\twin = True\n",
    "\n",
    "\t\tfor y in range(len(board)):\n",
    "\t\t\tif board[x, y] != player:\n",
    "\t\t\t\twin = False\n",
    "\t\t\t\tcontinue\n",
    "\n",
    "\t\tif win == True:\n",
    "\t\t\treturn(win)\n",
    "\treturn(win)\n",
    "\n",
    "# Checks whether the player has three\n",
    "# of their marks in a vertical row\n",
    "\n",
    "\n",
    "def col_win(board, player):\n",
    "\tfor x in range(len(board)):\n",
    "\t\twin = True\n",
    "\n",
    "\t\tfor y in range(len(board)):\n",
    "\t\t\tif board[y][x] != player:\n",
    "\t\t\t\twin = False\n",
    "\t\t\t\tcontinue\n",
    "\n",
    "\t\tif win == True:\n",
    "\t\t\treturn(win)\n",
    "\treturn(win)\n",
    "\n",
    "# Checks whether the player has three\n",
    "# of their marks in a diagonal row\n",
    "\n",
    "\n",
    "def diag_win(board, player):\n",
    "\twin = True\n",
    "\ty = 0\n",
    "\tfor x in range(len(board)):\n",
    "\t\tif board[x, x] != player:\n",
    "\t\t\twin = False\n",
    "\tif win:\n",
    "\t\treturn win\n",
    "\twin = True\n",
    "\tif win:\n",
    "\t\tfor x in range(len(board)):\n",
    "\t\t\ty = len(board) - 1 - x\n",
    "\t\t\tif board[x, y] != player:\n",
    "\t\t\t\twin = False\n",
    "\treturn win\n",
    "\n",
    "# Evaluates whether there is\n",
    "# a winner or a tie\n",
    "\n",
    "\n",
    "def evaluate(board):\n",
    "\twinner = 0\n",
    "\n",
    "\tfor player in [1, 2]:\n",
    "\t\tif (row_win(board, player) or\n",
    "\t\t\t\tcol_win(board, player) or\n",
    "\t\t\t\tdiag_win(board, player)):\n",
    "\n",
    "\t\t\twinner = player\n",
    "\n",
    "\tif np.all(board != 0) and winner == 0:\n",
    "\t\twinner = -1\n",
    "\treturn winner\n",
    "\n",
    "# Main function to start the game\n",
    "\n",
    "\n",
    "def play_game():\n",
    "\tboard, winner, counter = create_board(), 0, 1\n",
    "\tprint(board)\n",
    "\tsleep(2)\n",
    "\n",
    "\twhile winner == 0:\n",
    "\t\tfor player in [1, 2]:\n",
    "\t\t\tboard = random_place(board, player)\n",
    "\t\t\tprint(\"Board after \" + str(counter) + \" move\")\n",
    "\t\t\tprint(board)\n",
    "\t\t\tsleep(2)\n",
    "\t\t\tcounter += 1\n",
    "\t\t\twinner = evaluate(board)\n",
    "\t\t\tif winner != 0:\n",
    "\t\t\t\tbreak\n",
    "\treturn(winner)\n",
    "\n",
    "\n",
    "# Driver Code\n",
    "print(\"Winner is: \" + str(play_game()))\n"
   ]
  },
  {
   "cell_type": "code",
   "execution_count": null,
   "id": "96280938-58e2-43c0-9ff8-0271f41f0922",
   "metadata": {},
   "outputs": [],
   "source": []
  },
  {
   "cell_type": "code",
   "execution_count": null,
   "id": "ffa33979-2b6a-4d55-b10d-a6eee8a54d82",
   "metadata": {},
   "outputs": [],
   "source": [
    "# 36. Write a program that generates Fibonacci numbers up to a specified term using iterative methods."
   ]
  },
  {
   "cell_type": "code",
   "execution_count": 20,
   "id": "6a3fada6-71f6-4dab-8d40-11242484e894",
   "metadata": {},
   "outputs": [],
   "source": []
  },
  {
   "cell_type": "code",
   "execution_count": 69,
   "id": "54da3449-d06a-4c04-86c7-acfd5e8f64c4",
   "metadata": {},
   "outputs": [
    {
     "name": "stdin",
     "output_type": "stream",
     "text": [
      "Enter the number of terms upto which fibonacci series you want :  11\n"
     ]
    },
    {
     "name": "stdout",
     "output_type": "stream",
     "text": [
      "fibonacci series  : \n",
      "0 1 1 2 3 5 8 13 21 34 55 "
     ]
    }
   ],
   "source": [
    "n = int(input(\"Enter the number of terms upto which fibonacci series you want : \"))\n",
    "first,second=0,1\n",
    "print(\"fibonacci series  : \")\n",
    "for i in range(0,n):\n",
    "    if i<=1:\n",
    "        result=i\n",
    "    else:\n",
    "      result = first + second;\n",
    "      first = second;\n",
    "      second = result;\n",
    "    print(result,end=\" \")"
   ]
  },
  {
   "cell_type": "code",
   "execution_count": null,
   "id": "cb23cbb8-b1c4-49fb-9e49-2ecb4dde15b2",
   "metadata": {},
   "outputs": [],
   "source": []
  },
  {
   "cell_type": "code",
   "execution_count": null,
   "id": "d97b2c8a-ace5-454e-b889-5d21e8110481",
   "metadata": {},
   "outputs": [],
   "source": [
    "# 38. Create a program that generates a calendar for a given month and year using conditional statements."
   ]
  },
  {
   "cell_type": "code",
   "execution_count": 56,
   "id": "f6462be7-4d81-41e4-87ff-c79e6eb7def1",
   "metadata": {},
   "outputs": [
    {
     "name": "stdout",
     "output_type": "stream",
     "text": [
      "September 2023\n",
      "Su Mo Tu We Th Fr Sa\n",
      "               01 02 \n",
      "03 04 05 06 07 08 09 \n",
      "10 11 12 13 14 15 16 \n",
      "17 18 19 20 21 22 23 \n",
      "24 25 26 27 28 29 30 \n"
     ]
    }
   ],
   "source": [
    "# Python code to print Calendar\n",
    "# Without use of Calendar module\n",
    "\n",
    "mm = 9\n",
    "yy = 2023\n",
    "\n",
    "month ={1:'January', 2:'February', 3:'March',\n",
    "\t\t4:'April', 5:'May', 6:'June', 7:'July',\n",
    "\t\t8:'August', 9:'September', 10:'October',\n",
    "\t\t11:'November', 12:'December'}\n",
    "\n",
    "# code below for calculation of odd days\n",
    "day =(yy-1)% 400\n",
    "day = (day//100)*5 + ((day % 100) - (day % 100)//4) + ((day % 100)//4)*2\n",
    "day = day % 7\n",
    "\n",
    "nly =[31, 28, 31, 30, 31, 30,\n",
    "\t31, 31, 30, 31, 30, 31]\n",
    "ly =[31, 29, 31, 30, 31, 30,\n",
    "\t31, 31, 30, 31, 30, 31]\n",
    "s = 0\n",
    "\n",
    "if yy % 4 == 0:\n",
    "\tfor i in range(mm-1):\n",
    "\t\ts+= ly[i]\n",
    "else:\n",
    "\tfor i in range(mm-1):\n",
    "\t\ts+= nly[i]\n",
    "\n",
    "day += s % 7\n",
    "day = day % 7\n",
    "\n",
    "# variable used for white space filling\n",
    "# where date not present\n",
    "space =''\n",
    "space = space.rjust(2, ' ')\n",
    "\n",
    "# code below is to print the calendar\n",
    "print(month[mm], yy)\n",
    "print('Su', 'Mo', 'Tu', 'We', 'Th', 'Fr', 'Sa')\n",
    "\n",
    "if mm == 9 or mm == 4 or mm == 6 or mm == 11:\n",
    "\tfor i in range(31 + day):\n",
    "\t\t\n",
    "\t\tif i<= day:\n",
    "\t\t\tprint(space, end =' ')\n",
    "\t\telse:\n",
    "\t\t\tprint(\"{:02d}\".format(i-day), end =' ')\n",
    "\t\t\tif (i + 1)% 7 == 0:\n",
    "\t\t\t\tprint()\n",
    "elif mm == 2:\n",
    "\tif yy % 4 == 0:\n",
    "\t\tp = 30\n",
    "\telse:\n",
    "\t\tp = 29\n",
    "\t\t\n",
    "\tfor i in range(p + day):\n",
    "\t\tif i<= day:\n",
    "\t\t\tprint(space, end =' ')\n",
    "\t\telse:\n",
    "\t\t\tprint(\"{:02d}\".format(i-day), end =' ')\n",
    "\t\t\tif (i + 1)% 7 == 0:\n",
    "\t\t\t\tprint()\n",
    "else:\n",
    "\tfor i in range(32 + day):\n",
    "\t\t\n",
    "\t\tif i<= day:\n",
    "\t\t\tprint(space, end =' ')\n",
    "\t\telse:\n",
    "\t\t\tprint(\"{:02d}\".format(i-day), end =' ')\n",
    "\t\t\tif (i + 1)% 7 == 0:\n",
    "\t\t\t\tprint()\n"
   ]
  },
  {
   "cell_type": "code",
   "execution_count": null,
   "id": "422a25e1-6206-46fd-b9e6-48123f0288bb",
   "metadata": {},
   "outputs": [],
   "source": []
  },
  {
   "cell_type": "code",
   "execution_count": null,
   "id": "d262de5c-e5fa-44e8-b0f3-12f3fb494f99",
   "metadata": {},
   "outputs": [],
   "source": [
    "# 39. Build a program that simulates a basic text-based blackjack game against the computer."
   ]
  },
  {
   "cell_type": "code",
   "execution_count": 58,
   "id": "619316bb-89e8-4053-8e49-f3ca4b4cd44c",
   "metadata": {},
   "outputs": [
    {
     "name": "stdout",
     "output_type": "stream",
     "text": [
      "Cards Player Has: [('10', 'Spades'), ('4', 'Diamonds')]\n",
      "Score Of The Player: 14\n",
      "\n",
      "\n"
     ]
    },
    {
     "name": "stdin",
     "output_type": "stream",
     "text": [
      "What do you want? [\"play\" to request another card, \"stop\" to stop]:  play\n"
     ]
    },
    {
     "name": "stdout",
     "output_type": "stream",
     "text": [
      "Cards Player Has: [('10', 'Spades'), ('4', 'Diamonds'), ('Queen', 'Clubs')]\n",
      "Score Of The Player: 24\n",
      "\n",
      "\n"
     ]
    },
    {
     "name": "stdin",
     "output_type": "stream",
     "text": [
      "What do you want? [\"play\" to request another card, \"stop\" to stop]:  play\n"
     ]
    },
    {
     "name": "stdout",
     "output_type": "stream",
     "text": [
      "Cards Computer Has: [('9', 'Clubs'), ('4', 'Hearts')]\n",
      "Score Of The Computer: 13\n",
      "Cards Player Has: [('10', 'Spades'), ('4', 'Diamonds'), ('Queen', 'Clubs'), ('8', 'Hearts')]\n",
      "Score Of The Player: 24\n",
      "Computer wins (Player Loss Because Player Score is exceeding 21)\n",
      "Cards Computer Has: [('9', 'Clubs'), ('4', 'Hearts'), ('Ace', 'Hearts')]\n",
      "Score Of The Computer: 24\n",
      "\n",
      "\n",
      "Cards Computer Has: [('9', 'Clubs'), ('4', 'Hearts'), ('Ace', 'Hearts')]\n",
      "Score Of The Computer: 24\n",
      "Cards Player Has: [('10', 'Spades'), ('4', 'Diamonds'), ('Queen', 'Clubs'), ('8', 'Hearts')]\n",
      "Score Of The Player: 24\n",
      "Player wins (Computer Loss Because Computer Score is exceeding 21)\n"
     ]
    }
   ],
   "source": [
    "import random\n",
    "\n",
    "card_categories = ['Hearts', 'Diamonds', 'Clubs', 'Spades']\n",
    "cards_list = ['Ace', '2', '3', '4', '5', '6', '7', '8', '9', '10', 'Jack', 'Queen', 'King']\n",
    "deck = [(card, category) for category in card_categories for card in cards_list]\n",
    "\n",
    "def card_value(card):\n",
    "\tif card[0] in ['Jack', 'Queen', 'King']:\n",
    "\t\treturn 10\n",
    "\telif card[0] == 'Ace':\n",
    "\t\treturn 11\n",
    "\telse:\n",
    "\t\treturn int(card[0])\n",
    "\n",
    "random.shuffle(deck)\n",
    "player_card = [deck.pop(), deck.pop()]\n",
    "dealer_card = [deck.pop(), deck.pop()]\n",
    "\n",
    "while True:\n",
    "\tplayer_score = sum(card_value(card) for card in player_card)\n",
    "\tdealer_score = sum(card_value(card) for card in dealer_card)\n",
    "\tprint(\"Cards Player Has:\", player_card)\n",
    "\tprint(\"Score Of The Player:\", player_score)\n",
    "\tprint(\"\\n\")\n",
    "\tchoice = input('What do you want? [\"play\" to request another card, \"stop\" to stop]: ').lower()\n",
    "\tif choice == \"play\":\n",
    "\t\tnew_card = deck.pop()\n",
    "\t\tplayer_card.append(new_card)\n",
    "\telif choice == \"stop\":\n",
    "\t\tbreak\n",
    "\telse:\n",
    "\t\tprint(\"Invalid choice. Please try again.\")\n",
    "\t\tcontinue\n",
    "\n",
    "\tif player_score > 21:\n",
    "\t\tprint(\"Cards Computer Has:\", dealer_card)\n",
    "\t\tprint(\"Score Of The Computer:\", dealer_score)\n",
    "\t\tprint(\"Cards Player Has:\", player_card)\n",
    "\t\tprint(\"Score Of The Player:\", player_score)\n",
    "\t\tprint(\"Computer wins (Player Loss Because Player Score is exceeding 21)\")\n",
    "\t\tbreak\n",
    "\n",
    "while dealer_score < 17:\n",
    "\tnew_card = deck.pop()\n",
    "\tdealer_card.append(new_card)\n",
    "\tdealer_score += card_value(new_card)\n",
    "\n",
    "print(\"Cards Computer Has:\", dealer_card)\n",
    "print(\"Score Of The Computer:\", dealer_score)\n",
    "print(\"\\n\")\n",
    "\n",
    "if dealer_score > 21:\n",
    "\tprint(\"Cards Computer Has:\", dealer_card)\n",
    "\tprint(\"Score Of The Computer:\", dealer_score)\n",
    "\tprint(\"Cards Player Has:\", player_card)\n",
    "\tprint(\"Score Of The Player:\", player_score)\n",
    "\tprint(\"Player wins (Computer Loss Because Computer Score is exceeding 21)\")\n",
    "elif player_score > dealer_score:\n",
    "\tprint(\"Cards Computer Has:\", dealer_card)\n",
    "\tprint(\"Score Of The Computer:\", dealer_score)\n",
    "\tprint(\"Cards Player Has:\", player_card)\n",
    "\tprint(\"Score Of The Player:\", player_score)\n",
    "\tprint(\"Player wins (Player Has High Score than computer)\")\n",
    "elif dealer_score > player_score:\n",
    "\tprint(\"Cards Computer  Has:\", dealer_card)\n",
    "\tprint(\"Score Of The Dealer:\", dealer_score)\n",
    "\tprint(\"Cards Player Has:\", player_card)\n",
    "\tprint(\"Score Of The Player:\", player_score)\n",
    "\tprint(\"Computer wins (Computer Has High Score than Player)\")\n",
    "else:\n",
    "\tprint(\"Cards Computer Has:\", dealer_card)\n",
    "\tprint(\"Score Of The Computer:\", dealer_score)\n",
    "\tprint(\"Cards Player Has:\", player_card)\n",
    "\tprint(\"Score Of The Player:\", player_score)\n",
    "\tprint(\"It's a tie.\")\n"
   ]
  },
  {
   "cell_type": "code",
   "execution_count": null,
   "id": "c69e8e87-bbcc-4a2a-90d5-91538a1c8167",
   "metadata": {},
   "outputs": [],
   "source": []
  },
  {
   "cell_type": "code",
   "execution_count": null,
   "id": "fae8d606-7aa9-43c5-81d0-7dd56ce25536",
   "metadata": {},
   "outputs": [],
   "source": [
    "# 40. Write a program that generates the prime factors of a given number using trial division."
   ]
  },
  {
   "cell_type": "code",
   "execution_count": 66,
   "id": "b6b06066-ab04-4f7e-a919-8e682bae1246",
   "metadata": {},
   "outputs": [
    {
     "name": "stdout",
     "output_type": "stream",
     "text": [
      "2\n",
      "2\n",
      "31\n"
     ]
    }
   ],
   "source": [
    "# Python program to print prime factors\n",
    "\n",
    "import math\n",
    "\n",
    "# A function to print all prime factors of\n",
    "# a given number n\n",
    "def primeFactors(n):\n",
    "\t\n",
    "\t# Print the number of two's that divide n\n",
    "\twhile n % 2 == 0:\n",
    "\t\tprint(2)\n",
    "\t\tn = n // 2\n",
    "\t\t\n",
    "\t# n must be odd at this point\n",
    "\t# so a skip of 2 ( i = i + 2) can be used\n",
    "\tfor i in range(3,int(math.sqrt(n))+1,2):\n",
    "\t\t\n",
    "\t\t# while i divides n , print i ad divide n\n",
    "\t\twhile n % i== 0:\n",
    "\t\t\tprint(i)\n",
    "\t\t\tn = n // i\n",
    "\t\t\t\n",
    "\t# Condition if n is a prime\n",
    "\t# number greater than 2\n",
    "\tif n > 2:\n",
    "\t\tprint(n)\n",
    "\t\t\n",
    "\n",
    "n = 124\n",
    "primeFactors(n)"
   ]
  },
  {
   "cell_type": "code",
   "execution_count": null,
   "id": "f1cfa899-703b-4a68-bf4c-2450188fabe9",
   "metadata": {},
   "outputs": [],
   "source": []
  },
  {
   "cell_type": "code",
   "execution_count": null,
   "id": "fdd70221-2662-45fa-a68c-7d5a28acc1a1",
   "metadata": {},
   "outputs": [],
   "source": []
  },
  {
   "cell_type": "code",
   "execution_count": null,
   "id": "d42e1548-4f03-4a52-8a4d-432aca481064",
   "metadata": {},
   "outputs": [],
   "source": []
  },
  {
   "cell_type": "code",
   "execution_count": null,
   "id": "9110bfa0-3499-4251-b043-d8853e978116",
   "metadata": {},
   "outputs": [],
   "source": []
  },
  {
   "cell_type": "code",
   "execution_count": null,
   "id": "9d762970-05f3-4a99-8496-bef6371a8c84",
   "metadata": {},
   "outputs": [],
   "source": []
  },
  {
   "cell_type": "code",
   "execution_count": null,
   "id": "fb9e67c8-f6f2-485b-9e8f-27ce6d774e2d",
   "metadata": {},
   "outputs": [],
   "source": []
  },
  {
   "cell_type": "code",
   "execution_count": null,
   "id": "2ae68c1b-202e-4382-ae68-f9ac7dafec09",
   "metadata": {},
   "outputs": [],
   "source": []
  },
  {
   "cell_type": "code",
   "execution_count": null,
   "id": "615ecb26-3341-4e85-87cc-76203b0382a7",
   "metadata": {},
   "outputs": [],
   "source": []
  },
  {
   "cell_type": "code",
   "execution_count": null,
   "id": "046b63b3-c9d3-4b7b-91e0-5616c4791eac",
   "metadata": {},
   "outputs": [],
   "source": []
  },
  {
   "cell_type": "code",
   "execution_count": null,
   "id": "8bbddd92-9979-4eb4-817f-4ebc8431ea9a",
   "metadata": {},
   "outputs": [],
   "source": []
  },
  {
   "cell_type": "code",
   "execution_count": null,
   "id": "040c034e-758f-488f-816e-43488e338788",
   "metadata": {},
   "outputs": [],
   "source": []
  },
  {
   "cell_type": "code",
   "execution_count": null,
   "id": "98c69288-5423-447a-8887-bb258ddc67f8",
   "metadata": {},
   "outputs": [],
   "source": []
  },
  {
   "cell_type": "code",
   "execution_count": null,
   "id": "9b07db0f-7f55-4e70-a9a6-3695df203346",
   "metadata": {},
   "outputs": [],
   "source": []
  },
  {
   "cell_type": "code",
   "execution_count": null,
   "id": "5f30a3ee-5428-47ea-8c45-3c1ee7609da9",
   "metadata": {},
   "outputs": [],
   "source": []
  },
  {
   "cell_type": "code",
   "execution_count": null,
   "id": "c31857dd-ce75-4e0e-97ee-a50950b797cd",
   "metadata": {},
   "outputs": [],
   "source": []
  },
  {
   "cell_type": "code",
   "execution_count": null,
   "id": "f5734e43-c24c-4fd3-bd9f-29143640b42d",
   "metadata": {},
   "outputs": [],
   "source": []
  },
  {
   "cell_type": "code",
   "execution_count": null,
   "id": "128a776a-ee46-4e3a-b8b7-168aa9a46e56",
   "metadata": {},
   "outputs": [],
   "source": []
  }
 ],
 "metadata": {
  "kernelspec": {
   "display_name": "Python 3 (ipykernel)",
   "language": "python",
   "name": "python3"
  },
  "language_info": {
   "codemirror_mode": {
    "name": "ipython",
    "version": 3
   },
   "file_extension": ".py",
   "mimetype": "text/x-python",
   "name": "python",
   "nbconvert_exporter": "python",
   "pygments_lexer": "ipython3",
   "version": "3.10.8"
  }
 },
 "nbformat": 4,
 "nbformat_minor": 5
}
